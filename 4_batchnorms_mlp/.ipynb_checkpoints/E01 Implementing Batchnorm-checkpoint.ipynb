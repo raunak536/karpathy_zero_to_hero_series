{
 "cells": [
  {
   "cell_type": "markdown",
   "id": "29a39d8c-4bff-453f-8f4b-d0069383b6b7",
   "metadata": {},
   "source": [
    "### Exercises"
   ]
  },
  {
   "cell_type": "markdown",
   "id": "4ecaab20-b7f5-4751-a9f0-b3ee481da207",
   "metadata": {},
   "source": [
    "E01: I did not get around to seeing what happens when you initialize all weights and biases to zero. Try this and train the neural net. You might think either that 1) the network trains just fine or 2) the network doesn't train at all, but actually it is 3) the network trains but only partially, and achieves a pretty bad final performance. Inspect the gradients and activations to figure out what is happening and why the network is only partially training, and what part is being trained exactly.\n",
    "\n",
    "E02: BatchNorm, unlike other normalization layers like LayerNorm/GroupNorm etc. has the big advantage that after training, the batchnorm gamma/beta can be \"folded into\" the weights of the preceeding Linear layers, effectively erasing the need to forward it at test time. Set up a small 3-layer MLP with batchnorms, train the network, then \"fold\" the batchnorm gamma/beta into the preceeding Linear layer's W,b by creating a new W2, b2 and erasing the batch norm. Verify that this gives the same forward pass during inference. i.e. we see that the batchnorm is there just for stabilizing the training, and can be thrown out after training is done! pretty cool."
   ]
  },
  {
   "cell_type": "code",
   "execution_count": 2,
   "id": "7ed64aeb-ff62-4176-99f2-c90edc684ac8",
   "metadata": {},
   "outputs": [],
   "source": [
    "import torch\n",
    "import torch.nn.functional as F\n",
    "import matplotlib.pyplot as plt\n",
    "%matplotlib inline\n",
    "from time import time"
   ]
  },
  {
   "cell_type": "markdown",
   "id": "a4859b96-8336-47e3-9f8a-81014fe9f448",
   "metadata": {},
   "source": [
    "### Building dataset"
   ]
  },
  {
   "cell_type": "code",
   "execution_count": 4,
   "id": "92d3945f-fba5-4a07-b924-201aceb0d6b5",
   "metadata": {},
   "outputs": [],
   "source": [
    "words = open('../2_makemore_bigrams/names.txt','r').read().splitlines()"
   ]
  },
  {
   "cell_type": "code",
   "execution_count": 5,
   "id": "e6b1a10a-5144-49d8-94b3-f455a179bc39",
   "metadata": {},
   "outputs": [
    {
     "data": {
      "text/plain": [
       "32033"
      ]
     },
     "execution_count": 5,
     "metadata": {},
     "output_type": "execute_result"
    }
   ],
   "source": [
    "len(words)"
   ]
  },
  {
   "cell_type": "code",
   "execution_count": 6,
   "id": "6307f0a9-81e3-4c4e-b393-94f3fcf261a0",
   "metadata": {},
   "outputs": [
    {
     "data": {
      "text/plain": [
       "['emma', 'olivia', 'ava', 'isabella', 'sophia']"
      ]
     },
     "execution_count": 6,
     "metadata": {},
     "output_type": "execute_result"
    }
   ],
   "source": [
    "words[:5]"
   ]
  },
  {
   "cell_type": "code",
   "execution_count": 7,
   "id": "6d8aa33f-f470-46bb-b5c7-e79e0a815476",
   "metadata": {},
   "outputs": [],
   "source": [
    "chars = sorted(list(set(''.join(words))))\n",
    "stoi = {i:enum+1 for enum, i in enumerate(chars)}\n",
    "stoi['.'] = 0\n",
    "itos = {v:k for k,v in stoi.items()}"
   ]
  },
  {
   "cell_type": "code",
   "execution_count": 13,
   "id": "d932ad5b-bdd8-4719-b379-4765693f3a85",
   "metadata": {},
   "outputs": [],
   "source": [
    "# build the dataset\n",
    "block_size = 3\n",
    "\n",
    "def build_dataset(words):\n",
    "    X=[]\n",
    "    Y=[]\n",
    "    for w in words:\n",
    "        context = [0] * block_size\n",
    "        for ch in w+'.':\n",
    "            ix = stoi[ch]\n",
    "            X.append(context)\n",
    "            Y.append(ix)\n",
    "            context = context[1:] + [ix]\n",
    "    X = torch.tensor(X)\n",
    "    Y = torch.tensor(Y)\n",
    "    print(X.shape, Y.shape)\n",
    "    return X,Y"
   ]
  },
  {
   "cell_type": "code",
   "execution_count": 15,
   "id": "d9aaf9dd-77e1-4da6-9ce2-0e07e66a1d7a",
   "metadata": {},
   "outputs": [],
   "source": [
    "import random\n",
    "random.seed(42)\n",
    "random.shuffle(words)"
   ]
  },
  {
   "cell_type": "code",
   "execution_count": 17,
   "id": "f5467fe5-8a63-4c17-9cf0-483a548f56b5",
   "metadata": {},
   "outputs": [],
   "source": [
    "n1 = int(len(words)*0.8)\n",
    "n2 = int(len(words)*0.9)"
   ]
  },
  {
   "cell_type": "code",
   "execution_count": 19,
   "id": "43fff274-440b-451b-9d4c-ca61b1d310c9",
   "metadata": {},
   "outputs": [
    {
     "name": "stdout",
     "output_type": "stream",
     "text": [
      "torch.Size([182625, 3]) torch.Size([182625])\n",
      "torch.Size([22655, 3]) torch.Size([22655])\n",
      "torch.Size([22866, 3]) torch.Size([22866])\n"
     ]
    }
   ],
   "source": [
    "Xtr,Ytr = build_dataset(words[:n1])\n",
    "Xdev,Ydev = build_dataset(words[n1:n2])\n",
    "Xte,Yte = build_dataset(words[n2:])"
   ]
  },
  {
   "cell_type": "markdown",
   "id": "0530f7fe-960f-4bb3-b69b-9808ac4ce243",
   "metadata": {},
   "source": [
    "### Batchnorm"
   ]
  },
  {
   "cell_type": "code",
   "execution_count": 398,
   "id": "141671ed-d1de-436d-8ac0-0c20ee708b65",
   "metadata": {},
   "outputs": [],
   "source": [
    "device = torch.device('mps')\n",
    "Xtr = Xtr.to(device)\n",
    "Ytr = Ytr.to(device)\n",
    "Xdev = Xdev.to(device)\n",
    "Ydev = Ydev.to(device)\n",
    "Xte = Xte.to(device)\n",
    "Yte = Yte.to(device)"
   ]
  },
  {
   "cell_type": "code",
   "execution_count": 404,
   "id": "fe9b2e8f-4f2a-46ba-8716-66682a35432b",
   "metadata": {},
   "outputs": [
    {
     "name": "stdout",
     "output_type": "stream",
     "text": [
      "Total parameters : 35727\n",
      "Steps : 10000 / 200000  -> loss_train :  2.173\n",
      "Steps : 20000 / 200000  -> loss_train :  2.409\n",
      "Steps : 30000 / 200000  -> loss_train :  2.246\n",
      "Steps : 40000 / 200000  -> loss_train :  2.045\n",
      "Steps : 50000 / 200000  -> loss_train :  2.475\n",
      "Steps : 60000 / 200000  -> loss_train :  1.983\n",
      "Steps : 70000 / 200000  -> loss_train :  2.191\n",
      "Steps : 80000 / 200000  -> loss_train :  2.226\n",
      "Steps : 90000 / 200000  -> loss_train :  1.898\n",
      "Steps : 100000 / 200000  -> loss_train :  2.339\n",
      "Steps : 110000 / 200000  -> loss_train :  2.188\n",
      "Steps : 120000 / 200000  -> loss_train :  1.843\n",
      "Steps : 130000 / 200000  -> loss_train :  2.452\n",
      "Steps : 140000 / 200000  -> loss_train :  1.958\n",
      "Steps : 150000 / 200000  -> loss_train :  2.008\n",
      "Steps : 160000 / 200000  -> loss_train :  1.859\n",
      "Steps : 170000 / 200000  -> loss_train :  2.34\n",
      "Steps : 180000 / 200000  -> loss_train :  2.255\n",
      "Steps : 190000 / 200000  -> loss_train :  2.402\n",
      "Steps : 200000 / 200000  -> loss_train :  1.997\n",
      "\n",
      "Final loss_train :  1.997\n"
     ]
    }
   ],
   "source": [
    "n_emb = 100\n",
    "n_hidden = 100\n",
    "losses_train = []\n",
    "losses_dev = []\n",
    "g = torch.Generator(device=device).manual_seed(99)\n",
    "C = torch.randn((27, n_emb), generator=g, device=device) * 0.01\n",
    "W1 = torch.randn((n_emb*3, n_hidden), generator=g, device=device) * (5/3) / ((n_emb*3)**0.5)\n",
    "b1 = torch.randn(n_hidden, generator=g, device=device) * 0.01\n",
    "W2 = torch.randn((n_hidden,27), generator=g, device=device) / ((n_hidden)**0.5)\n",
    "b2 = torch.randn(27, generator=g, device=device) * 0.01\n",
    "bnorm_running_mean = torch.zeros((1,n_hidden) ,device=device)\n",
    "bnorm_running_std = torch.ones((1,n_hidden) ,device=device)\n",
    "bnorm_gain = torch.ones((1,n_hidden) ,device=device)\n",
    "bnorm_bias = torch.zeros((1,n_hidden) ,device=device)\n",
    "parameters = [C, W1,W2,b1,b2, bnorm_bias, bnorm_gain]\n",
    "for p in parameters:\n",
    "    p.requires_grad = True\n",
    "print(f\"Total parameters : {sum(p.nelement() for p in parameters)}\")\n",
    "\n",
    "for steps in range(1,200000+1):\n",
    "    minibatch = torch.randint(0,Xtr.shape[0],(32,))\n",
    "    emb = C[Xtr[minibatch]].view(-1, n_emb*3)\n",
    "    l1preact = emb @ W1 + b1\n",
    "    #BATCH NORM LAYER----------------\n",
    "    bnorm_mean = l1preact.mean(dim=0,keepdim=True)\n",
    "    bnorm_std = l1preact.std(dim=0,keepdim=True)\n",
    "    bnorm_l1preact = bnorm_gain * (l1preact - bnorm_mean) / bnorm_std + bnorm_bias\n",
    "    with torch.no_grad():\n",
    "        bnorm_running_mean = bnorm_running_mean*0.99 + bnorm_mean*0.01\n",
    "        bnorm_running_std = bnorm_running_std*0.99 + bnorm_std*0.01\n",
    "    #---------------------------------\n",
    "    l1 = torch.tanh(bnorm_l1preact)\n",
    "    \n",
    "    logits = l1 @ W2 + b2\n",
    "    loss_train = F.cross_entropy(logits, Ytr[minibatch])\n",
    "    for p in parameters:\n",
    "        p.grad = None\n",
    "    loss_train.backward()\n",
    "    lr = 0.1 if steps < 100000 else 0.01\n",
    "    for p in parameters:\n",
    "        p.data += -lr*p.grad\n",
    "\n",
    "    losses_train.append(loss_train.log10().item())\n",
    "    if (steps%10000) == 0:\n",
    "        print(f\"Steps : {steps} / 200000  -> loss_train :  {round(loss_train.item(),3)}\")\n",
    "        \n",
    "    # with torch.no_grad():\n",
    "    #     emb = C[Xdev].view(-1, n_emb*3)\n",
    "    #     l1 = torch.tanh(emb @ W1 + b1)\n",
    "    #     logits = l1 @ W2 + b2\n",
    "    #     loss_dev = F.cross_entropy(logits, Ydev)\n",
    "    #     losses_dev.append(loss_dev.log10().item())\n",
    "\n",
    "    # break\n",
    "        \n",
    "# print(f\"loss_train | loss_dev : {round(loss_train.item(),3)} | {round(loss_dev.item(),3)}\")\n",
    "print(f\"\\nFinal loss_train :  {round(loss_train.item(),3)}\")\n"
   ]
  },
  {
   "cell_type": "code",
   "execution_count": 405,
   "id": "3163377f-5f44-41af-985e-2a1f4a98e5c8",
   "metadata": {},
   "outputs": [
    {
     "data": {
      "text/plain": [
       "<matplotlib.legend.Legend at 0x3144f3d70>"
      ]
     },
     "execution_count": 405,
     "metadata": {},
     "output_type": "execute_result"
    },
    {
     "data": {
      "image/png": "[encoded data removed]",
      "text/plain": [
       "<Figure size 640x480 with 1 Axes>"
      ]
     },
     "metadata": {},
     "output_type": "display_data"
    }
   ],
   "source": [
    "plt.plot(list(range(len(losses_train))), losses_train, label='loss_train')\n",
    "# plt.plot(list(range(len(losses_dev))), losses_dev, label='loss_dev')\n",
    "plt.legend()"
   ]
  },
  {
   "cell_type": "code",
   "execution_count": null,
   "id": "b471b06c-dd2e-48a4-8f4e-6e24dc699e36",
   "metadata": {},
   "outputs": [],
   "source": []
  },
  {
   "cell_type": "code",
   "execution_count": 440,
   "id": "14ee668b-9a52-47d4-b636-fc500f7cbcc5",
   "metadata": {},
   "outputs": [],
   "source": [
    "def split_loss(split):\n",
    "    X = {'train' : Xtr, 'dev': Xdev, 'test' : Xte}\n",
    "    Y = {'train' : Ytr, 'dev': Ydev, 'test' : Yte}\n",
    "    with torch.no_grad():\n",
    "        emb = C[X[split]].view(-1, n_emb*3)\n",
    "        l1preact = emb @ W1 + b1\n",
    "        bnorm_l1preact = bnorm_gain * (l1preact - bnorm_running_mean) / bnorm_running_std + bnorm_bias\n",
    "        l1 = torch.tanh(bnorm_l1preact)\n",
    "        logits = l1 @ W2 + b2\n",
    "        loss = F.cross_entropy(logits, Y[split])\n",
    "        print(f\"Loss {split} : {round(loss.item(),3)}\")"
   ]
  },
  {
   "cell_type": "code",
   "execution_count": 442,
   "id": "6e9b6667-e6df-40a7-87f2-fcb1eb403001",
   "metadata": {},
   "outputs": [
    {
     "name": "stdout",
     "output_type": "stream",
     "text": [
      "Loss train : 2.057\n"
     ]
    }
   ],
   "source": [
    "split_loss('train')"
   ]
  },
  {
   "cell_type": "code",
   "execution_count": 446,
   "id": "0fd69c23-c380-47a7-8088-404bb958f205",
   "metadata": {},
   "outputs": [
    {
     "name": "stdout",
     "output_type": "stream",
     "text": [
      "Loss dev : 2.103\n"
     ]
    }
   ],
   "source": [
    "split_loss('dev')"
   ]
  },
  {
   "cell_type": "code",
   "execution_count": 448,
   "id": "b16b7510-00f6-447d-b804-dcc5c9eea51d",
   "metadata": {},
   "outputs": [
    {
     "name": "stdout",
     "output_type": "stream",
     "text": [
      "Loss test : 2.101\n"
     ]
    }
   ],
   "source": [
    "split_loss('test')"
   ]
  },
  {
   "cell_type": "code",
   "execution_count": 94,
   "id": "ae442e69-dfb3-464c-8287-a5441ac4ee0d",
   "metadata": {},
   "outputs": [
    {
     "data": {
      "text/plain": [
       "torch.Size([1, 3])"
      ]
     },
     "execution_count": 94,
     "metadata": {},
     "output_type": "execute_result"
    }
   ],
   "source": [
    "torch.tensor([[0,1,2]]).shape"
   ]
  },
  {
   "cell_type": "markdown",
   "id": "e4569b2c-495e-448a-a5f0-dbbb277984fa",
   "metadata": {},
   "source": [
    "### Pytorch-ification"
   ]
  },
  {
   "cell_type": "code",
   "execution_count": 657,
   "id": "345d6df3-5e89-485a-9c77-6a8615bda9c2",
   "metadata": {},
   "outputs": [],
   "source": [
    "class TanH:\n",
    "    def __call__(self, x):\n",
    "        self.out = torch.tanh(x)\n",
    "        return self.out\n",
    "\n",
    "    def parameters(self):\n",
    "        return []\n",
    "\n",
    "class Linear:\n",
    "    def __init__(self, fan_in, fan_out, device = torch.device('mps'), bias=True):\n",
    "        self.weight = torch.randn((fan_in, fan_out), generator=g, device=device)\n",
    "        self.bias = torch.zeros(fan_out) if bias else None\n",
    "\n",
    "    def __call__(self, x):\n",
    "        self.out = x @ self.weight\n",
    "        if self.bias:\n",
    "            self.out += self.bias\n",
    "        return self.out\n",
    "\n",
    "    def parameters(self):\n",
    "        return [self.weight] + ([] if self.bias is None else [self.bias])\n",
    "\n",
    "class BatchNorm1D:\n",
    "    def __init__(self, dim, eps=1e-5, momentum=0.1, device = torch.device('mps')):\n",
    "        self.eps = eps\n",
    "        self.momentum = momentum\n",
    "        self.training = True\n",
    "        self.gamma = torch.ones(dim, device=device) \n",
    "        self.beta = torch.zeros(dim, device=device) \n",
    "        self.running_mean = torch.zeros(dim, device=device) \n",
    "        self.running_var = torch.ones(dim, device=device) \n",
    "\n",
    "    def __call__(self, x):\n",
    "        if self.training:\n",
    "            xmean = x.mean(dim=0, keepdim=True)\n",
    "            xvar = x.var(dim=0, keepdim=True)\n",
    "        else:\n",
    "            xmean = self.running_mean\n",
    "            xvar = self.running_var\n",
    "\n",
    "        self.out = self.gamma * (x - xmean) / torch.sqrt(xvar + self.eps) + self.beta\n",
    "\n",
    "        if self.training:\n",
    "            with torch.no_grad():\n",
    "                self.running_mean = (1-self.momentum)*self.running_mean + xmean*self.momentum\n",
    "                self.running_var = (1-self.momentum)*self.running_var + xvar*self.momentum \n",
    "        return self.out\n",
    "\n",
    "    def parameters(self):\n",
    "        return [self.gamma, self.beta]\n",
    "                \n"
   ]
  },
  {
   "cell_type": "code",
   "execution_count": 659,
   "id": "9941d3fd-1106-49a6-a817-9b5f29e3206c",
   "metadata": {},
   "outputs": [],
   "source": [
    "g = torch.Generator(device=torch.device('mps')).manual_seed(32131231)\n",
    "n_emb = 10\n",
    "n_hidden = 100\n",
    "vocab_size = 27\n",
    "C = torch.randn((vocab_size, n_emb), generator=g, device=torch.device('mps'))"
   ]
  },
  {
   "cell_type": "code",
   "execution_count": 661,
   "id": "ef751a0f-9fa9-4512-b5de-9f34701bbfd3",
   "metadata": {},
   "outputs": [],
   "source": [
    "block_size = 3\n",
    "\n",
    "layers = [\n",
    "    Linear(n_emb*block_size, n_hidden, bias=False), BatchNorm1D(n_hidden), TanH(),\n",
    "    Linear(n_hidden, n_hidden, bias=False), BatchNorm1D(n_hidden), TanH(),\n",
    "    Linear(n_hidden, n_hidden, bias=False), BatchNorm1D(n_hidden), TanH(),\n",
    "    Linear(n_hidden, n_hidden, bias=False), BatchNorm1D(n_hidden), TanH(),\n",
    "    Linear(n_hidden, n_hidden, bias=False), BatchNorm1D(n_hidden), TanH(),\n",
    "    Linear(n_hidden, vocab_size, bias=False), BatchNorm1D(vocab_size)\n",
    "]"
   ]
  },
  {
   "cell_type": "code",
   "execution_count": 663,
   "id": "caee010a-96da-49cc-b58a-4ff311fb8d50",
   "metadata": {},
   "outputs": [],
   "source": [
    "with torch.no_grad():\n",
    "    layers[-1].gamma *= 0.1"
   ]
  },
  {
   "cell_type": "code",
   "execution_count": 665,
   "id": "39f8f5b7-8229-4b85-acc2-35afc3f90fe0",
   "metadata": {},
   "outputs": [],
   "source": [
    "parameters = [C] + [p for layer in layers for p in layer.parameters()]"
   ]
  },
  {
   "cell_type": "code",
   "execution_count": 667,
   "id": "39177583-c7e6-4774-bc30-f6cc70332f54",
   "metadata": {},
   "outputs": [
    {
     "data": {
      "text/plain": [
       "47024"
      ]
     },
     "execution_count": 667,
     "metadata": {},
     "output_type": "execute_result"
    }
   ],
   "source": [
    "sum(p.nelement() for p in parameters)"
   ]
  },
  {
   "cell_type": "code",
   "execution_count": 669,
   "id": "06ff4de5-8b83-4009-967a-ffecc9448b5d",
   "metadata": {},
   "outputs": [],
   "source": [
    "for p in parameters:\n",
    "    p.requires_grad = True"
   ]
  },
  {
   "cell_type": "code",
   "execution_count": 727,
   "id": "0b568a51-d71d-47c7-bf9e-87e7173f99c7",
   "metadata": {},
   "outputs": [],
   "source": [
    "batch_size = 32\n",
    "max_steps = 200000\n",
    "lossi = []\n",
    "ud = []\n",
    "for step in range(1,max_steps):\n",
    "    ix = torch.randint(0, Xtr.shape[0], (batch_size,), generator=g, device=torch.device('mps'))\n",
    "    Xb, Yb = Xtr[ix], Ytr[ix]\n",
    "\n",
    "    emb = C[Xb]\n",
    "    x = emb.view(-1, n_emb*block_size)\n",
    "    for layer in layers:\n",
    "        x = layer(x)\n",
    "    loss = F.cross_entropy(x, Yb)\n",
    "\n",
    "    for layer in layers:\n",
    "        layer.out.retain_grad()\n",
    "    for p in parameters:\n",
    "        p.grad = None\n",
    "    loss.backward()\n",
    "\n",
    "    lr = 0.1 if step < (max_steps/2) else 0.01\n",
    "    for p in parameters:\n",
    "        p.data += -lr*p.grad\n",
    "\n",
    "    lossi.append(loss.log10().item())\n",
    "    if step%10000 == 0:\n",
    "        print(f\"Step : {step} / {max_steps} -> Loss  : {loss.item():.4f}\")\n",
    "\n",
    "    with torch.no_grad():\n",
    "        ud.append([((lr * p.grad).std() / p.data.std()).log10().item() for p in parameters])"
   ]
  },
  {
   "cell_type": "code",
   "execution_count": 737,
   "id": "482bbe00-3529-4f38-bd89-09058bf9247a",
   "metadata": {},
   "outputs": [
    {
     "data": {
      "text/plain": [
       "[-3.60436749458313,\n",
       " -4.159110069274902,\n",
       " -0.31102633476257324,\n",
       " -0.2745992839336395,\n",
       " -4.468003749847412,\n",
       " -0.32522809505462646,\n",
       " -0.27406927943229675,\n",
       " -4.479326248168945,\n",
       " -0.23866014182567596,\n",
       " -0.30176588892936707,\n",
       " -4.536012172698975,\n",
       " -0.2748187482357025,\n",
       " -0.23691540956497192,\n",
       " -4.601803302764893,\n",
       " -0.2952340841293335,\n",
       " -0.23559574782848358,\n",
       " -4.392425060272217,\n",
       " -0.3684380352497101,\n",
       " -0.5285762548446655]"
      ]
     },
     "execution_count": 737,
     "metadata": {},
     "output_type": "execute_result"
    }
   ],
   "source": [
    "ud[0]"
   ]
  },
  {
   "cell_type": "code",
   "execution_count": null,
   "id": "c39f8e39-44e9-42b5-a680-661e53891fdd",
   "metadata": {},
   "outputs": [],
   "source": []
  },
  {
   "cell_type": "code",
   "execution_count": null,
   "id": "e736a0b1-6c7a-47be-920a-10c2bd2db519",
   "metadata": {},
   "outputs": [],
   "source": []
  }
 ],
 "metadata": {
  "kernelspec": {
   "display_name": "Python 3 (ipykernel)",
   "language": "python",
   "name": "python3"
  },
  "language_info": {
   "codemirror_mode": {
    "name": "ipython",
    "version": 3
   },
   "file_extension": ".py",
   "mimetype": "text/x-python",
   "name": "python",
   "nbconvert_exporter": "python",
   "pygments_lexer": "ipython3",
   "version": "3.12.2"
  }
 },
 "nbformat": 4,
 "nbformat_minor": 5
}
