{
 "cells": [
  {
   "cell_type": "markdown",
   "id": "b7a191aa-4811-4ba1-add7-95765f205ee1",
   "metadata": {},
   "source": [
    "### Loading names"
   ]
  },
  {
   "cell_type": "code",
   "execution_count": 1,
   "id": "61fd6a60-8cd6-4138-932b-3ec514486a1b",
   "metadata": {},
   "outputs": [],
   "source": [
    "words = open('names.txt','r').read().splitlines()"
   ]
  },
  {
   "cell_type": "code",
   "execution_count": 3,
   "id": "4c147e26-81f6-40b3-acfd-ca51bbb3072b",
   "metadata": {},
   "outputs": [
    {
     "data": {
      "text/plain": [
       "32033"
      ]
     },
     "execution_count": 3,
     "metadata": {},
     "output_type": "execute_result"
    }
   ],
   "source": [
    "len(words)"
   ]
  },
  {
   "cell_type": "code",
   "execution_count": 4,
   "id": "d03bc814-58d2-477c-ae35-6a938b9bd656",
   "metadata": {},
   "outputs": [
    {
     "data": {
      "text/plain": [
       "['emma', 'olivia', 'ava', 'isabella', 'sophia']"
      ]
     },
     "execution_count": 4,
     "metadata": {},
     "output_type": "execute_result"
    }
   ],
   "source": [
    "words[:5]"
   ]
  },
  {
   "cell_type": "markdown",
   "id": "332668d2-939a-49e1-8c26-c21309b3fc9e",
   "metadata": {},
   "source": [
    "### Creating stoi and itos for ys"
   ]
  },
  {
   "cell_type": "code",
   "execution_count": 8,
   "id": "73b9fc76-56ec-4324-83d1-b660a05aad01",
   "metadata": {},
   "outputs": [],
   "source": [
    "chars = sorted(list(set(''.join(words))) + ['.'])"
   ]
  },
  {
   "cell_type": "code",
   "execution_count": 10,
   "id": "76455d36-2d64-4960-976e-43ed3fe8563f",
   "metadata": {},
   "outputs": [
    {
     "data": {
      "text/plain": [
       "27"
      ]
     },
     "execution_count": 10,
     "metadata": {},
     "output_type": "execute_result"
    }
   ],
   "source": [
    "len(chars)"
   ]
  },
  {
   "cell_type": "code",
   "execution_count": 12,
   "id": "1c00e076-5c16-434f-af96-064a8f8e1b67",
   "metadata": {},
   "outputs": [],
   "source": [
    "stoi_ys = {i:e for e,i in enumerate(chars)}"
   ]
  },
  {
   "cell_type": "code",
   "execution_count": 14,
   "id": "b704a254-7600-44ae-83e8-01ee86966ba4",
   "metadata": {},
   "outputs": [],
   "source": [
    "itos_ys = {v:k for k,v in stoi_ys.items()}"
   ]
  },
  {
   "cell_type": "code",
   "execution_count": 16,
   "id": "7cd6a810-4973-4438-84ab-b04602e056fa",
   "metadata": {},
   "outputs": [
    {
     "data": {
      "text/plain": [
       "{'.': 0,\n",
       " 'a': 1,\n",
       " 'b': 2,\n",
       " 'c': 3,\n",
       " 'd': 4,\n",
       " 'e': 5,\n",
       " 'f': 6,\n",
       " 'g': 7,\n",
       " 'h': 8,\n",
       " 'i': 9,\n",
       " 'j': 10,\n",
       " 'k': 11,\n",
       " 'l': 12,\n",
       " 'm': 13,\n",
       " 'n': 14,\n",
       " 'o': 15,\n",
       " 'p': 16,\n",
       " 'q': 17,\n",
       " 'r': 18,\n",
       " 's': 19,\n",
       " 't': 20,\n",
       " 'u': 21,\n",
       " 'v': 22,\n",
       " 'w': 23,\n",
       " 'x': 24,\n",
       " 'y': 25,\n",
       " 'z': 26}"
      ]
     },
     "execution_count": 16,
     "metadata": {},
     "output_type": "execute_result"
    }
   ],
   "source": [
    "stoi_ys"
   ]
  },
  {
   "cell_type": "markdown",
   "id": "a2fda23c-9aa0-43bc-a375-110755ad0571",
   "metadata": {},
   "source": [
    "### Creating stoi and itos of xs"
   ]
  },
  {
   "cell_type": "code",
   "execution_count": 19,
   "id": "cc2370f0-0910-4765-849e-538da3d68778",
   "metadata": {},
   "outputs": [],
   "source": [
    "from itertools import product"
   ]
  },
  {
   "cell_type": "code",
   "execution_count": 21,
   "id": "085dd4ee-be4a-4028-9474-c660537255d5",
   "metadata": {},
   "outputs": [],
   "source": [
    "stoi_xs = {}\n",
    "for e,(ch1,ch2) in enumerate(product(chars,repeat=2)):\n",
    "    ch = ch1+ch2\n",
    "    stoi_xs[ch] = e \n",
    "    "
   ]
  },
  {
   "cell_type": "code",
   "execution_count": 23,
   "id": "e2a7483f-e626-40fa-af83-e828ba8f2c1b",
   "metadata": {},
   "outputs": [
    {
     "data": {
      "text/plain": [
       "729"
      ]
     },
     "execution_count": 23,
     "metadata": {},
     "output_type": "execute_result"
    }
   ],
   "source": [
    "len(stoi_xs)"
   ]
  },
  {
   "cell_type": "code",
   "execution_count": 25,
   "id": "092429d0-7304-4a29-9001-930878303661",
   "metadata": {},
   "outputs": [],
   "source": [
    "itos_xs = {v:k for k,v in stoi_xs.items()}"
   ]
  },
  {
   "cell_type": "code",
   "execution_count": 27,
   "id": "dd946480-5c40-4846-af32-2eab4dbe07ab",
   "metadata": {},
   "outputs": [],
   "source": [
    "# stoi_xs"
   ]
  },
  {
   "cell_type": "markdown",
   "id": "039d6e1e-8a3c-4e08-8f49-b4c462c5068d",
   "metadata": {},
   "source": [
    "### Creating training set of trigrams"
   ]
  },
  {
   "cell_type": "code",
   "execution_count": 30,
   "id": "b3295a9f-54dd-47e2-9b20-1e227e34582b",
   "metadata": {},
   "outputs": [],
   "source": [
    "import torch"
   ]
  },
  {
   "cell_type": "code",
   "execution_count": 31,
   "id": "3af49c3d-7bc1-4774-af20-a68f2a6ca2f0",
   "metadata": {},
   "outputs": [],
   "source": [
    "num_words = len(words)"
   ]
  },
  {
   "cell_type": "code",
   "execution_count": 34,
   "id": "c57d63c3-383c-4544-b352-2da8666e70d1",
   "metadata": {},
   "outputs": [],
   "source": [
    "import random\n",
    "random.seed(42)\n",
    "random.shuffle(words)"
   ]
  },
  {
   "cell_type": "code",
   "execution_count": 36,
   "id": "2124ec89-03ac-4f3e-b468-c26e513a8fbd",
   "metadata": {},
   "outputs": [],
   "source": [
    "train = int(0.8*num_words)\n",
    "dev = int(0.1*num_words)\n",
    "train_words = words[:train]\n",
    "dev_words = words[train: train+dev]\n",
    "test_words = words[train+dev:]"
   ]
  },
  {
   "cell_type": "code",
   "execution_count": 38,
   "id": "b6d82879-96f6-4f6d-992f-ef989d72e7ca",
   "metadata": {},
   "outputs": [],
   "source": [
    "assert len(train_words) + len(dev_words) + len(test_words) == num_words"
   ]
  },
  {
   "cell_type": "code",
   "execution_count": 40,
   "id": "52c0434b-b743-4989-9b17-6a6980d66ac6",
   "metadata": {},
   "outputs": [
    {
     "data": {
      "text/plain": [
       "(25626, 3203, 3204)"
      ]
     },
     "execution_count": 40,
     "metadata": {},
     "output_type": "execute_result"
    }
   ],
   "source": [
    "len(train_words), len(dev_words), len(test_words)"
   ]
  },
  {
   "cell_type": "code",
   "execution_count": 42,
   "id": "aa4e7a7b-ea31-4b34-8e10-c281ea228243",
   "metadata": {},
   "outputs": [],
   "source": [
    "def words_to_modelling_data(words):\n",
    "    xs,ys = [],[]\n",
    "    \n",
    "    printed=False\n",
    "    for w in words:\n",
    "        chs = ['.'] + list(w) + ['.']\n",
    "        for i in range(len(chs)-2):\n",
    "            ch1 = chs[i] + chs[i+1]\n",
    "            ch2 = chs[i+2]\n",
    "                \n",
    "            ix1 = stoi_xs[ch1]\n",
    "            ix2 = stoi_ys[ch2]\n",
    "            if not printed:\n",
    "                print('first trigram :')\n",
    "                print(ch1,ch2)\n",
    "                print(ix1,ix2)\n",
    "                printed=True\n",
    "            xs.append(ix1)\n",
    "            ys.append(ix2)\n",
    "                               \n",
    "    xs = torch.tensor(xs, dtype=torch.long)\n",
    "    ys = torch.tensor(ys, dtype=torch.long)\n",
    "    return xs, ys"
   ]
  },
  {
   "cell_type": "code",
   "execution_count": 44,
   "id": "c4746397-1980-4015-ba15-ae0f7cd4d610",
   "metadata": {},
   "outputs": [
    {
     "name": "stdout",
     "output_type": "stream",
     "text": [
      "first trigram :\n",
      ".y u\n",
      "25 21\n"
     ]
    }
   ],
   "source": [
    "xs,ys = words_to_modelling_data(train_words)"
   ]
  },
  {
   "cell_type": "code",
   "execution_count": 46,
   "id": "818bd7d7-6a33-4201-a0ca-0316558b1e28",
   "metadata": {},
   "outputs": [
    {
     "name": "stdout",
     "output_type": "stream",
     "text": [
      "first trigram :\n",
      ".a m\n",
      "1 13\n"
     ]
    }
   ],
   "source": [
    "xs_dev,ys_dev = words_to_modelling_data(dev_words)"
   ]
  },
  {
   "cell_type": "code",
   "execution_count": 48,
   "id": "6ab3971f-9165-4665-987b-833a30df9aba",
   "metadata": {},
   "outputs": [
    {
     "name": "stdout",
     "output_type": "stream",
     "text": [
      "first trigram :\n",
      ".m u\n",
      "13 21\n"
     ]
    }
   ],
   "source": [
    "xs_test,ys_test = words_to_modelling_data(test_words)"
   ]
  },
  {
   "cell_type": "code",
   "execution_count": 50,
   "id": "6c8a0f73-dcf4-435e-ac25-d59d02868234",
   "metadata": {},
   "outputs": [
    {
     "data": {
      "text/plain": [
       "(156999, 156999)"
      ]
     },
     "execution_count": 50,
     "metadata": {},
     "output_type": "execute_result"
    }
   ],
   "source": [
    "len(xs), len(ys)"
   ]
  },
  {
   "cell_type": "code",
   "execution_count": 56,
   "id": "1fde148b-1424-4dd9-9a37-609b774662ab",
   "metadata": {},
   "outputs": [
    {
     "data": {
      "text/plain": [
       "(19452, 19452)"
      ]
     },
     "execution_count": 56,
     "metadata": {},
     "output_type": "execute_result"
    }
   ],
   "source": [
    "len(xs_dev), len(ys_dev)"
   ]
  },
  {
   "cell_type": "code",
   "execution_count": 63,
   "id": "9e4e83e4-7a30-4392-b811-076c0dfb48c2",
   "metadata": {},
   "outputs": [
    {
     "data": {
      "text/plain": [
       "(19662, 19662)"
      ]
     },
     "execution_count": 63,
     "metadata": {},
     "output_type": "execute_result"
    }
   ],
   "source": [
    "len(xs_test), len(ys_test)"
   ]
  },
  {
   "cell_type": "markdown",
   "id": "3a24bac8-ca20-4b6d-b2f6-2478cd733c4b",
   "metadata": {},
   "source": [
    "### Doing a single trigram pass"
   ]
  },
  {
   "cell_type": "code",
   "execution_count": 66,
   "id": "341c0332-31f9-4cd8-98a5-936ae2b41788",
   "metadata": {},
   "outputs": [],
   "source": [
    "import torch.nn.functional as F"
   ]
  },
  {
   "cell_type": "code",
   "execution_count": 68,
   "id": "212a47d9-2bda-41ed-b2c9-4aded480d8a0",
   "metadata": {},
   "outputs": [],
   "source": [
    "xenc = F.one_hot(xs, num_classes=729).float()"
   ]
  },
  {
   "cell_type": "code",
   "execution_count": 70,
   "id": "5524ede3-bb03-47ff-b6ec-f53f4efe4d24",
   "metadata": {},
   "outputs": [
    {
     "data": {
      "text/plain": [
       "torch.Size([156999, 729])"
      ]
     },
     "execution_count": 70,
     "metadata": {},
     "output_type": "execute_result"
    }
   ],
   "source": [
    "xenc.shape"
   ]
  },
  {
   "cell_type": "code",
   "execution_count": 72,
   "id": "cecaad39-6394-42a0-ae75-938d2e6232c9",
   "metadata": {},
   "outputs": [],
   "source": [
    "g = torch.Generator().manual_seed(42)\n",
    "W = torch.randn((729,27), generator=g)"
   ]
  },
  {
   "cell_type": "code",
   "execution_count": 74,
   "id": "786d0dd2-3297-4957-867f-361b47a90c54",
   "metadata": {},
   "outputs": [],
   "source": [
    "logits = xenc @ W\n",
    "count = logits.exp()\n",
    "probs = count / count.sum(dim=1, keepdims=True)"
   ]
  },
  {
   "cell_type": "code",
   "execution_count": 76,
   "id": "a3fbcda2-4946-4ac9-b6d0-051e7f454367",
   "metadata": {},
   "outputs": [
    {
     "data": {
      "text/plain": [
       "torch.Size([156999, 27])"
      ]
     },
     "execution_count": 76,
     "metadata": {},
     "output_type": "execute_result"
    }
   ],
   "source": [
    "probs.shape"
   ]
  },
  {
   "cell_type": "code",
   "execution_count": 78,
   "id": "ff37a54e-c2b6-4193-a81d-4fca711be62b",
   "metadata": {},
   "outputs": [
    {
     "data": {
      "text/plain": [
       "25"
      ]
     },
     "execution_count": 78,
     "metadata": {},
     "output_type": "execute_result"
    }
   ],
   "source": [
    "xs[0].item()"
   ]
  },
  {
   "cell_type": "code",
   "execution_count": 80,
   "id": "ffe65d44-269d-4588-a431-11a27ea86288",
   "metadata": {},
   "outputs": [
    {
     "data": {
      "text/plain": [
       "('.y', 'u')"
      ]
     },
     "execution_count": 80,
     "metadata": {},
     "output_type": "execute_result"
    }
   ],
   "source": [
    "itos_xs[xs[0].item()],itos_ys[ys[0].item()]"
   ]
  },
  {
   "cell_type": "code",
   "execution_count": 82,
   "id": "511c7609-a56f-49b6-b9cb-b2b8460893c1",
   "metadata": {},
   "outputs": [
    {
     "data": {
      "text/plain": [
       "tensor(0.0129)"
      ]
     },
     "execution_count": 82,
     "metadata": {},
     "output_type": "execute_result"
    }
   ],
   "source": [
    "probs[0,ys[0].item()]"
   ]
  },
  {
   "cell_type": "markdown",
   "id": "c2143cd0-22f5-47a9-a8bc-b698564176a3",
   "metadata": {},
   "source": [
    "### Training the trigram neural net"
   ]
  },
  {
   "cell_type": "code",
   "execution_count": 291,
   "id": "9785023c-39a7-4ce9-913d-2032cf8d84af",
   "metadata": {},
   "outputs": [],
   "source": [
    "import matplotlib.pyplot as plt\n",
    "%matplotlib inline"
   ]
  },
  {
   "cell_type": "code",
   "execution_count": 293,
   "id": "30e458bc-f14a-4a36-b230-25eb6fe0a02d",
   "metadata": {},
   "outputs": [],
   "source": [
    "def train_gram_model(xenc, ys, xenc_dev, ys_dev):\n",
    "    losses=[]\n",
    "    losses_dev=[]\n",
    "    rounds=0\n",
    "    for iterations in range(max_rounds):\n",
    "        logits = xenc @ W\n",
    "        count = logits.exp()\n",
    "        probs = count / count.sum(dim=1, keepdims=True)\n",
    "        loss = -probs[torch.arange(xenc.shape[0]), ys].log().mean() + smoothing*(W**2).mean()\n",
    "        losses.append(loss.item())\n",
    "        rounds+=1\n",
    "        \n",
    "        #dev loss\n",
    "        with torch.no_grad():\n",
    "            logits = xenc_dev @ W\n",
    "            count = logits.exp()\n",
    "            probs = count / count.sum(dim=1, keepdims=True)\n",
    "            loss_dev = -probs[torch.arange(xenc_dev.shape[0]), ys_dev].log().mean()\n",
    "            losses_dev.append(loss_dev.item())\n",
    "    \n",
    "        if (rounds==1) | (rounds%100==0):\n",
    "            print(f'Rounds : {rounds} | Train Loss : {loss.item():.2f} | | Dev Loss : {loss_dev.item():.2f}')\n",
    "\n",
    "        if iterations<(max_rounds-1):\n",
    "            W.grad = None\n",
    "            loss.backward()\n",
    "            W.data += -learning_rate * W.grad\n",
    "        "
   ]
  },
  {
   "cell_type": "code",
   "execution_count": 295,
   "id": "e3cbb862-6b00-42af-8e5d-261329e699dc",
   "metadata": {},
   "outputs": [
    {
     "name": "stdout",
     "output_type": "stream",
     "text": [
      "--------------------Smoothing : 0.001--------------------\n",
      "Rounds : 1 | Train Loss : 3.71 | | Dev Loss : 3.71\n",
      "Rounds : 100 | Train Loss : 2.40 | | Dev Loss : 2.41\n",
      "Rounds : 200 | Train Loss : 2.26 | | Dev Loss : 2.28\n",
      "Rounds : 300 | Train Loss : 2.21 | | Dev Loss : 2.22\n",
      "Rounds : 400 | Train Loss : 2.18 | | Dev Loss : 2.19\n",
      "Rounds : 500 | Train Loss : 2.16 | | Dev Loss : 2.17\n",
      "--------------------Smoothing : 0.01--------------------\n",
      "Rounds : 1 | Train Loss : 3.72 | | Dev Loss : 3.71\n",
      "Rounds : 100 | Train Loss : 2.41 | | Dev Loss : 2.41\n",
      "Rounds : 200 | Train Loss : 2.27 | | Dev Loss : 2.28\n",
      "Rounds : 300 | Train Loss : 2.22 | | Dev Loss : 2.22\n",
      "Rounds : 400 | Train Loss : 2.19 | | Dev Loss : 2.19\n",
      "Rounds : 500 | Train Loss : 2.17 | | Dev Loss : 2.17\n",
      "--------------------Smoothing : 1--------------------\n",
      "Rounds : 1 | Train Loss : 4.71 | | Dev Loss : 3.71\n",
      "Rounds : 100 | Train Loss : 2.82 | | Dev Loss : 2.41\n",
      "Rounds : 200 | Train Loss : 2.57 | | Dev Loss : 2.32\n",
      "Rounds : 300 | Train Loss : 2.49 | | Dev Loss : 2.30\n",
      "Rounds : 400 | Train Loss : 2.47 | | Dev Loss : 2.29\n",
      "Rounds : 500 | Train Loss : 2.46 | | Dev Loss : 2.29\n",
      "--------------------Smoothing : 10--------------------\n",
      "Rounds : 1 | Train Loss : 13.75 | | Dev Loss : 3.71\n",
      "Rounds : 100 | Train Loss : 2.94 | | Dev Loss : 2.73\n",
      "Rounds : 200 | Train Loss : 2.94 | | Dev Loss : 2.73\n",
      "Rounds : 300 | Train Loss : 2.94 | | Dev Loss : 2.73\n",
      "Rounds : 400 | Train Loss : 2.94 | | Dev Loss : 2.73\n",
      "Rounds : 500 | Train Loss : 2.94 | | Dev Loss : 2.73\n"
     ]
    }
   ],
   "source": [
    "for smoothing in [0.001,0.01,1,10]:\n",
    "    print(f\"--------------------Smoothing : {smoothing}--------------------\")\n",
    "    max_rounds=500\n",
    "    learning_rate = 50\n",
    "    # smoothing=0.01\n",
    "    xenc = F.one_hot(xs, num_classes=729).float()\n",
    "    xenc_dev = F.one_hot(xs_dev, num_classes=729).float()\n",
    "    xenc_test = F.one_hot(xs_test, num_classes=729).float()\n",
    "    g = torch.Generator().manual_seed(42)\n",
    "    W = torch.randn((729,27), generator=g, requires_grad=True)\n",
    "    train_gram_model(xenc, ys, xenc_dev, ys_dev)"
   ]
  },
  {
   "cell_type": "code",
   "execution_count": 296,
   "id": "895a85d2-e93f-4735-94fb-963f3c29f22c",
   "metadata": {},
   "outputs": [
    {
     "name": "stdout",
     "output_type": "stream",
     "text": [
      "Rounds : 1 | Train Loss : 3.72 | | Dev Loss : 3.71\n",
      "Rounds : 100 | Train Loss : 2.41 | | Dev Loss : 2.41\n",
      "Rounds : 200 | Train Loss : 2.27 | | Dev Loss : 2.28\n",
      "Rounds : 300 | Train Loss : 2.22 | | Dev Loss : 2.22\n",
      "Rounds : 400 | Train Loss : 2.19 | | Dev Loss : 2.19\n",
      "Rounds : 500 | Train Loss : 2.17 | | Dev Loss : 2.17\n"
     ]
    }
   ],
   "source": [
    "losses=[]\n",
    "losses_dev=[]\n",
    "rounds=0\n",
    "max_rounds=500\n",
    "learning_rate = 50\n",
    "smoothing=0.01\n",
    "xenc = F.one_hot(xs, num_classes=729).float()\n",
    "xenc_dev = F.one_hot(xs_dev, num_classes=729).float()\n",
    "xenc_test = F.one_hot(xs_test, num_classes=729).float()\n",
    "g = torch.Generator().manual_seed(42)\n",
    "W = torch.randn((729,27), generator=g, requires_grad=True)\n",
    "for iterations in range(max_rounds):\n",
    "    logits = xenc @ W\n",
    "    count = logits.exp()\n",
    "    probs = count / count.sum(dim=1, keepdims=True)\n",
    "    loss = -probs[torch.arange(xenc.shape[0]), ys].log().mean() + smoothing*(W**2).mean()\n",
    "    losses.append(loss.item())\n",
    "    rounds+=1\n",
    "    \n",
    "    #dev loss\n",
    "    with torch.no_grad():\n",
    "        logits = xenc_dev @ W\n",
    "        count = logits.exp()\n",
    "        probs = count / count.sum(dim=1, keepdims=True)\n",
    "        loss_dev = -probs[torch.arange(xenc_dev.shape[0]), ys_dev].log().mean()\n",
    "        losses_dev.append(loss_dev.item())\n",
    "\n",
    "    if (rounds==1) | (rounds%100==0):\n",
    "        print(f'Rounds : {rounds} | Train Loss : {loss.item():.2f} | | Dev Loss : {loss_dev.item():.2f}')\n",
    "\n",
    "    if iterations<(max_rounds-1):\n",
    "        W.grad = None\n",
    "        loss.backward()\n",
    "        W.data += -learning_rate * W.grad\n",
    "    "
   ]
  },
  {
   "cell_type": "code",
   "execution_count": 298,
   "id": "8720e47c-37b5-41eb-a6aa-b701fb4151df",
   "metadata": {},
   "outputs": [
    {
     "data": {
      "text/plain": [
       "Text(0, 0.5, 'Losses')"
      ]
     },
     "execution_count": 298,
     "metadata": {},
     "output_type": "execute_result"
    },
    {
     "data": {
      "image/png": "[encoded data removed]",
      "text/plain": [
       "<Figure size 640x480 with 1 Axes>"
      ]
     },
     "metadata": {},
     "output_type": "display_data"
    }
   ],
   "source": [
    "plt.plot(range(len(losses)), losses,label='train')\n",
    "plt.plot(range(len(losses_dev)), losses_dev,label='dev')\n",
    "plt.xlabel('Rounds')\n",
    "plt.ylabel('Losses')"
   ]
  },
  {
   "cell_type": "markdown",
   "id": "53bda54b-31fd-4af5-be0e-41834bd76b31",
   "metadata": {},
   "source": [
    "### Evaluation"
   ]
  },
  {
   "cell_type": "code",
   "execution_count": 299,
   "id": "2f2356d0-93fc-4f66-b30e-6a8a9952ddd8",
   "metadata": {},
   "outputs": [
    {
     "data": {
      "text/plain": [
       "(torch.Size([19452, 729]), torch.Size([19662, 729]))"
      ]
     },
     "execution_count": 299,
     "metadata": {},
     "output_type": "execute_result"
    }
   ],
   "source": [
    "xenc_dev.shape, xenc_test.shape"
   ]
  },
  {
   "cell_type": "code",
   "execution_count": 300,
   "id": "ce9bd12b-817c-4faa-b44e-5853a54fe06f",
   "metadata": {},
   "outputs": [],
   "source": [
    "def evaluate(xenc, ys):\n",
    "    logits = xenc @ W\n",
    "    count = logits.exp()\n",
    "    probs = count / count.sum(dim=1, keepdims=True)\n",
    "    loss = -probs[torch.arange(xenc.shape[0]), ys].log().mean()\n",
    "    return round(loss.item(),2)"
   ]
  },
  {
   "cell_type": "code",
   "execution_count": 301,
   "id": "1162bfee-05fd-4bc7-8dab-9a0497df3baa",
   "metadata": {},
   "outputs": [
    {
     "data": {
      "text/plain": [
       "2.16"
      ]
     },
     "execution_count": 301,
     "metadata": {},
     "output_type": "execute_result"
    }
   ],
   "source": [
    "evaluate(xenc, ys)"
   ]
  },
  {
   "cell_type": "code",
   "execution_count": 302,
   "id": "e42ed8f5-4b51-4a6d-a299-12871cfba9bf",
   "metadata": {},
   "outputs": [
    {
     "data": {
      "text/plain": [
       "2.17"
      ]
     },
     "execution_count": 302,
     "metadata": {},
     "output_type": "execute_result"
    }
   ],
   "source": [
    "evaluate(xenc_dev, ys_dev)"
   ]
  },
  {
   "cell_type": "code",
   "execution_count": 303,
   "id": "815344d4-02e3-40ac-abb4-e96d2eae14d3",
   "metadata": {},
   "outputs": [
    {
     "data": {
      "text/plain": [
       "2.18"
      ]
     },
     "execution_count": 303,
     "metadata": {},
     "output_type": "execute_result"
    }
   ],
   "source": [
    "evaluate(xenc_test, ys_test)"
   ]
  },
  {
   "cell_type": "markdown",
   "id": "96de710e-4832-4354-8352-a245526d1017",
   "metadata": {},
   "source": [
    "### Remove OHE to train the model & applying cross entropy"
   ]
  },
  {
   "cell_type": "code",
   "execution_count": 364,
   "id": "6329a4ea-1982-4ea1-ab19-6d4992dcec03",
   "metadata": {},
   "outputs": [
    {
     "data": {
      "text/plain": [
       "tensor(3.1478)"
      ]
     },
     "execution_count": 364,
     "metadata": {},
     "output_type": "execute_result"
    }
   ],
   "source": [
    "F.cross_entropy(probs[torch.arange(len(xs_dev))], ys_dev)"
   ]
  },
  {
   "cell_type": "code",
   "execution_count": 400,
   "id": "8ea31ac6-c45f-440f-a67c-10230577c6ab",
   "metadata": {},
   "outputs": [
    {
     "data": {
      "text/plain": [
       "torch.Size([19452, 27])"
      ]
     },
     "execution_count": 400,
     "metadata": {},
     "output_type": "execute_result"
    }
   ],
   "source": [
    "logits.shape"
   ]
  },
  {
   "cell_type": "code",
   "execution_count": 416,
   "id": "594bfbce-dab4-40a9-8df9-97c3f2a90740",
   "metadata": {},
   "outputs": [
    {
     "data": {
      "text/plain": [
       "tensor([50.])"
      ]
     },
     "execution_count": 416,
     "metadata": {},
     "output_type": "execute_result"
    }
   ],
   "source": [
    "torch.tensor([50]).exp().log()"
   ]
  },
  {
   "cell_type": "code",
   "execution_count": 422,
   "id": "9bcb9905-7561-44e9-8106-cdf788ce64b2",
   "metadata": {},
   "outputs": [
    {
     "data": {
      "text/plain": [
       "torch.Size([19452, 27])"
      ]
     },
     "execution_count": 422,
     "metadata": {},
     "output_type": "execute_result"
    }
   ],
   "source": [
    "logits.shape"
   ]
  },
  {
   "cell_type": "code",
   "execution_count": 424,
   "id": "da8aae5a-2680-4c35-a9b0-05089b52ac8b",
   "metadata": {},
   "outputs": [
    {
     "name": "stdout",
     "output_type": "stream",
     "text": [
      "Rounds : 1 | Train Loss : 3.72 | | Dev Loss : 3.71\n",
      "Rounds : 100 | Train Loss : 2.41 | | Dev Loss : 2.41\n",
      "Rounds : 200 | Train Loss : 2.27 | | Dev Loss : 2.28\n",
      "Rounds : 300 | Train Loss : 2.22 | | Dev Loss : 2.22\n",
      "Rounds : 400 | Train Loss : 2.19 | | Dev Loss : 2.19\n",
      "Rounds : 500 | Train Loss : 2.17 | | Dev Loss : 2.17\n"
     ]
    }
   ],
   "source": [
    "losses=[]\n",
    "losses_dev=[]\n",
    "rounds=0\n",
    "max_rounds=500\n",
    "learning_rate = 50\n",
    "smoothing=0.01\n",
    "# xenc = F.one_hot(xs, num_classes=729).float()\n",
    "# xenc_dev = F.one_hot(xs_dev, num_classes=729).float()\n",
    "# xenc_test = F.one_hot(xs_test, num_classes=729).float()\n",
    "g = torch.Generator().manual_seed(42)\n",
    "W = torch.randn((729,27), generator=g, requires_grad=True)\n",
    "for iterations in range(max_rounds):\n",
    "    logits = W[xs]\n",
    "    # count = logits.exp()\n",
    "    # probs = count / count.sum(dim=1, keepdims=True)\n",
    "    # loss = -probs[torch.arange(len(xs)), ys].log().mean() + smoothing*(W**2).mean()\n",
    "    loss = F.cross_entropy(logits,ys) + smoothing*(W**2).mean()\n",
    "    \n",
    "    losses.append(loss.item())\n",
    "    rounds+=1\n",
    "    \n",
    "    #dev loss\n",
    "    with torch.no_grad():\n",
    "        logits =  W[xs_dev]\n",
    "        # count = logits.exp()\n",
    "        # probs = count / count.sum(dim=1, keepdims=True)\n",
    "        # loss_dev = -probs[torch.arange(len(xs_dev)), ys_dev].log().mean()\n",
    "        loss_dev = F.cross_entropy(logits,ys_dev)\n",
    "        losses_dev.append(loss_dev.item())\n",
    "\n",
    "    if (rounds==1) | (rounds%100==0):\n",
    "        print(f'Rounds : {rounds} | Train Loss : {loss.item():.2f} | | Dev Loss : {loss_dev.item():.2f}')\n",
    "\n",
    "    if iterations<(max_rounds-1):\n",
    "        W.grad = None\n",
    "        loss.backward()\n",
    "        W.data += -learning_rate * W.grad\n",
    "    "
   ]
  },
  {
   "cell_type": "markdown",
   "id": "65d9ae04-a794-4149-ae11-da426e507fe3",
   "metadata": {},
   "source": [
    "### CPU vs GPU"
   ]
  },
  {
   "cell_type": "code",
   "execution_count": 453,
   "id": "bfaa900b-c68c-4bc0-911f-d1a5e98b2b55",
   "metadata": {},
   "outputs": [],
   "source": [
    "from time import time"
   ]
  },
  {
   "cell_type": "code",
   "execution_count": 457,
   "id": "b4714b68-6a74-472a-9ac3-b854c26e7a64",
   "metadata": {},
   "outputs": [
    {
     "name": "stdout",
     "output_type": "stream",
     "text": [
      "Rounds : 1 | Train Loss : 3.72 | | Dev Loss : 3.71\n",
      "Rounds : 1000 | Train Loss : 2.13 | | Dev Loss : 2.13\n",
      "Rounds : 2000 | Train Loss : 2.10 | | Dev Loss : 2.12\n",
      "Rounds : 3000 | Train Loss : 2.10 | | Dev Loss : 2.11\n",
      "Rounds : 4000 | Train Loss : 2.09 | | Dev Loss : 2.11\n",
      "Rounds : 5000 | Train Loss : 2.09 | | Dev Loss : 2.10\n",
      "Rounds : 6000 | Train Loss : 2.09 | | Dev Loss : 2.10\n",
      "Rounds : 7000 | Train Loss : 2.09 | | Dev Loss : 2.10\n",
      "Rounds : 8000 | Train Loss : 2.09 | | Dev Loss : 2.10\n",
      "Rounds : 9000 | Train Loss : 2.09 | | Dev Loss : 2.10\n",
      "Rounds : 10000 | Train Loss : 2.09 | | Dev Loss : 2.10\n",
      "**********TIME TAKEN for cpu : 66.97s**********\n",
      "Rounds : 1 | Train Loss : 3.78 | | Dev Loss : 3.77\n",
      "Rounds : 1000 | Train Loss : 2.13 | | Dev Loss : 2.13\n",
      "Rounds : 2000 | Train Loss : 2.10 | | Dev Loss : 2.11\n",
      "Rounds : 3000 | Train Loss : 2.10 | | Dev Loss : 2.11\n",
      "Rounds : 4000 | Train Loss : 2.09 | | Dev Loss : 2.11\n",
      "Rounds : 5000 | Train Loss : 2.09 | | Dev Loss : 2.10\n",
      "Rounds : 6000 | Train Loss : 2.09 | | Dev Loss : 2.10\n",
      "Rounds : 7000 | Train Loss : 2.09 | | Dev Loss : 2.10\n",
      "Rounds : 8000 | Train Loss : 2.09 | | Dev Loss : 2.10\n",
      "Rounds : 9000 | Train Loss : 2.09 | | Dev Loss : 2.10\n",
      "Rounds : 10000 | Train Loss : 2.09 | | Dev Loss : 2.10\n",
      "**********TIME TAKEN for mps : 20.66s**********\n"
     ]
    }
   ],
   "source": [
    "for device in [torch.device('cpu'), torch.device('mps')]:\n",
    "    tic = time()\n",
    "    losses=[]\n",
    "    losses_dev=[]\n",
    "    rounds=0\n",
    "    max_rounds=10000\n",
    "    learning_rate = 50\n",
    "    smoothing=0.01\n",
    "    xs = xs.to(device)\n",
    "    ys = ys.to(device)\n",
    "    xs_dev = xs_dev.to(device)\n",
    "    ys_dev = ys_dev.to(device)\n",
    "    g = torch.Generator(device=device).manual_seed(42)\n",
    "    W = torch.randn((729,27), generator=g, requires_grad=True, device=device)\n",
    "    for iterations in range(max_rounds):\n",
    "        logits = W[xs]\n",
    "        # count = logits.exp()\n",
    "        # probs = count / count.sum(dim=1, keepdims=True)\n",
    "        # loss = -probs[torch.arange(len(xs)), ys].log().mean() + smoothing*(W**2).mean()\n",
    "        loss = F.cross_entropy(logits,ys) + smoothing*(W**2).mean()\n",
    "        \n",
    "        losses.append(loss.item())\n",
    "        rounds+=1\n",
    "        \n",
    "        #dev loss\n",
    "        with torch.no_grad():\n",
    "            logits =  W[xs_dev]\n",
    "            # count = logits.exp()\n",
    "            # probs = count / count.sum(dim=1, keepdims=True)\n",
    "            # loss_dev = -probs[torch.arange(len(xs_dev)), ys_dev].log().mean()\n",
    "            loss_dev = F.cross_entropy(logits,ys_dev)\n",
    "            losses_dev.append(loss_dev.item())\n",
    "    \n",
    "        if (rounds==1) | (rounds%1000==0):\n",
    "            print(f'Rounds : {rounds} | Train Loss : {loss.item():.2f} | | Dev Loss : {loss_dev.item():.2f}')\n",
    "    \n",
    "        if iterations<(max_rounds-1):\n",
    "            W.grad = None\n",
    "            loss.backward()\n",
    "            W.data += -learning_rate * W.grad\n",
    "    \n",
    "    toc = time()\n",
    "    \n",
    "    print(f\"**********TIME TAKEN for {device} : {round(toc-tic,2)}s**********\")\n",
    "    "
   ]
  },
  {
   "cell_type": "markdown",
   "id": "9c17c6fb-665c-40f5-9b95-2c956aceb5f5",
   "metadata": {},
   "source": [
    "### Predictions"
   ]
  },
  {
   "cell_type": "code",
   "execution_count": 93,
   "id": "6bcd188a-de6c-4af3-bc56-5993fe2b237f",
   "metadata": {},
   "outputs": [
    {
     "data": {
      "text/plain": [
       "{'.a': 1,\n",
       " '.b': 2,\n",
       " '.c': 3,\n",
       " '.d': 4,\n",
       " '.e': 5,\n",
       " '.f': 6,\n",
       " '.g': 7,\n",
       " '.h': 8,\n",
       " '.i': 9,\n",
       " '.j': 10,\n",
       " '.k': 11,\n",
       " '.l': 12,\n",
       " '.m': 13,\n",
       " '.n': 14,\n",
       " '.o': 15,\n",
       " '.p': 16,\n",
       " '.q': 17,\n",
       " '.r': 18,\n",
       " '.s': 19,\n",
       " '.t': 20,\n",
       " '.u': 21,\n",
       " '.v': 22,\n",
       " '.w': 23,\n",
       " '.x': 24,\n",
       " '.y': 25,\n",
       " '.z': 26}"
      ]
     },
     "execution_count": 93,
     "metadata": {},
     "output_type": "execute_result"
    }
   ],
   "source": [
    "{k:v for k,v in stoi_xs.items() if k[0] == '.' if k[1] != '.'} # valid starting bigrams"
   ]
  },
  {
   "cell_type": "code",
   "execution_count": 841,
   "id": "241ae8d1-e55a-4534-8d57-67cd22c7c121",
   "metadata": {},
   "outputs": [
    {
     "name": "stdout",
     "output_type": "stream",
     "text": [
      "brawilyn\n",
      "xydenehi\n",
      "daikalyn\n",
      "yab\n",
      "xan\n",
      "quinois\n",
      "quigh\n",
      "cor\n",
      "ta\n",
      "quilly\n",
      "fexan\n",
      "xmck\n",
      "maelory\n",
      "dem\n",
      "jhana\n",
      "brisofina\n",
      "dasir\n",
      "kaee\n",
      "rekiyah\n",
      "dalotalyn\n"
     ]
    }
   ],
   "source": [
    "g = torch.Generator().manual_seed(99)\n",
    "N = 20\n",
    "for xs_input_i in torch.randint(low=1, high=27, size=(N,),generator=g): # get a valid starting bigram\n",
    "    xs_input_i = xs_input_i.item()\n",
    "    xs_input_s = itos_xs[xs_input_i]\n",
    "    out = [xs_input_s]\n",
    "    while True:\n",
    "        xenc_inf = F.one_hot(torch.tensor([xs_input_i]), num_classes=729).float()\n",
    "        logits = xenc_inf @ W\n",
    "        count = logits.exp()\n",
    "        probs = count / count.sum(dim=1, keepdims=True)\n",
    "        ys_output_i = torch.multinomial(probs, num_samples=1, replacement=True, generator=g).item()\n",
    "        ys_output_s = itos_ys[ys_output_i] # using itos_ys instead itos_xs\n",
    "        out.append(ys_output_s)  \n",
    "        if ys_output_s == '.':\n",
    "            break\n",
    "        xs_input_i = stoi_xs[''.join(out)[-2] + ''.join(out)[-1]]\n",
    "    print(''.join(out)[1:-1])"
   ]
  }
 ],
 "metadata": {
  "kernelspec": {
   "display_name": "Python 3 (ipykernel)",
   "language": "python",
   "name": "python3"
  },
  "language_info": {
   "codemirror_mode": {
    "name": "ipython",
    "version": 3
   },
   "file_extension": ".py",
   "mimetype": "text/x-python",
   "name": "python",
   "nbconvert_exporter": "python",
   "pygments_lexer": "ipython3",
   "version": "3.12.2"
  }
 },
 "nbformat": 4,
 "nbformat_minor": 5
}
