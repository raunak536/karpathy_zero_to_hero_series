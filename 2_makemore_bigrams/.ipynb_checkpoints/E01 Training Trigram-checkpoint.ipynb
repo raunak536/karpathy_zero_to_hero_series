{
 "cells": [
  {
   "cell_type": "markdown",
   "id": "b7a191aa-4811-4ba1-add7-95765f205ee1",
   "metadata": {},
   "source": [
    "### Loading names"
   ]
  },
  {
   "cell_type": "code",
   "execution_count": 487,
   "id": "61fd6a60-8cd6-4138-932b-3ec514486a1b",
   "metadata": {},
   "outputs": [],
   "source": [
    "words = open('names.txt','r').read().splitlines()"
   ]
  },
  {
   "cell_type": "code",
   "execution_count": 489,
   "id": "4c147e26-81f6-40b3-acfd-ca51bbb3072b",
   "metadata": {},
   "outputs": [
    {
     "data": {
      "text/plain": [
       "32033"
      ]
     },
     "execution_count": 489,
     "metadata": {},
     "output_type": "execute_result"
    }
   ],
   "source": [
    "len(words)"
   ]
  },
  {
   "cell_type": "code",
   "execution_count": 491,
   "id": "d03bc814-58d2-477c-ae35-6a938b9bd656",
   "metadata": {},
   "outputs": [
    {
     "data": {
      "text/plain": [
       "['emma', 'olivia', 'ava', 'isabella', 'sophia']"
      ]
     },
     "execution_count": 491,
     "metadata": {},
     "output_type": "execute_result"
    }
   ],
   "source": [
    "words[:5]"
   ]
  },
  {
   "cell_type": "markdown",
   "id": "332668d2-939a-49e1-8c26-c21309b3fc9e",
   "metadata": {},
   "source": [
    "### Creating stoi and itos for ys"
   ]
  },
  {
   "cell_type": "code",
   "execution_count": 494,
   "id": "73b9fc76-56ec-4324-83d1-b660a05aad01",
   "metadata": {},
   "outputs": [],
   "source": [
    "chars = sorted(list(set(''.join(words))) + ['.'])"
   ]
  },
  {
   "cell_type": "code",
   "execution_count": 496,
   "id": "76455d36-2d64-4960-976e-43ed3fe8563f",
   "metadata": {},
   "outputs": [
    {
     "data": {
      "text/plain": [
       "27"
      ]
     },
     "execution_count": 496,
     "metadata": {},
     "output_type": "execute_result"
    }
   ],
   "source": [
    "len(chars)"
   ]
  },
  {
   "cell_type": "code",
   "execution_count": 498,
   "id": "1c00e076-5c16-434f-af96-064a8f8e1b67",
   "metadata": {},
   "outputs": [],
   "source": [
    "stoi_ys = {i:e for e,i in enumerate(chars)}"
   ]
  },
  {
   "cell_type": "code",
   "execution_count": 500,
   "id": "b704a254-7600-44ae-83e8-01ee86966ba4",
   "metadata": {},
   "outputs": [],
   "source": [
    "itos_ys = {v:k for k,v in stoi_ys.items()}"
   ]
  },
  {
   "cell_type": "code",
   "execution_count": 502,
   "id": "7cd6a810-4973-4438-84ab-b04602e056fa",
   "metadata": {},
   "outputs": [
    {
     "data": {
      "text/plain": [
       "{'.': 0,\n",
       " 'a': 1,\n",
       " 'b': 2,\n",
       " 'c': 3,\n",
       " 'd': 4,\n",
       " 'e': 5,\n",
       " 'f': 6,\n",
       " 'g': 7,\n",
       " 'h': 8,\n",
       " 'i': 9,\n",
       " 'j': 10,\n",
       " 'k': 11,\n",
       " 'l': 12,\n",
       " 'm': 13,\n",
       " 'n': 14,\n",
       " 'o': 15,\n",
       " 'p': 16,\n",
       " 'q': 17,\n",
       " 'r': 18,\n",
       " 's': 19,\n",
       " 't': 20,\n",
       " 'u': 21,\n",
       " 'v': 22,\n",
       " 'w': 23,\n",
       " 'x': 24,\n",
       " 'y': 25,\n",
       " 'z': 26}"
      ]
     },
     "execution_count": 502,
     "metadata": {},
     "output_type": "execute_result"
    }
   ],
   "source": [
    "stoi_ys"
   ]
  },
  {
   "cell_type": "markdown",
   "id": "a2fda23c-9aa0-43bc-a375-110755ad0571",
   "metadata": {},
   "source": [
    "### Creating stoi and itos of xs"
   ]
  },
  {
   "cell_type": "code",
   "execution_count": 505,
   "id": "cc2370f0-0910-4765-849e-538da3d68778",
   "metadata": {},
   "outputs": [],
   "source": [
    "from itertools import product"
   ]
  },
  {
   "cell_type": "code",
   "execution_count": 507,
   "id": "085dd4ee-be4a-4028-9474-c660537255d5",
   "metadata": {},
   "outputs": [],
   "source": [
    "stoi_xs = {}\n",
    "for e,(ch1,ch2) in enumerate(product(chars,repeat=2)):\n",
    "    ch = ch1+ch2\n",
    "    stoi_xs[ch] = e \n",
    "    "
   ]
  },
  {
   "cell_type": "code",
   "execution_count": 509,
   "id": "e2a7483f-e626-40fa-af83-e828ba8f2c1b",
   "metadata": {},
   "outputs": [
    {
     "data": {
      "text/plain": [
       "729"
      ]
     },
     "execution_count": 509,
     "metadata": {},
     "output_type": "execute_result"
    }
   ],
   "source": [
    "len(stoi_xs)"
   ]
  },
  {
   "cell_type": "code",
   "execution_count": 511,
   "id": "092429d0-7304-4a29-9001-930878303661",
   "metadata": {},
   "outputs": [],
   "source": [
    "itos_xs = {v:k for k,v in stoi_xs.items()}"
   ]
  },
  {
   "cell_type": "code",
   "execution_count": 513,
   "id": "dd946480-5c40-4846-af32-2eab4dbe07ab",
   "metadata": {},
   "outputs": [
    {
     "data": {
      "text/plain": [
       "{'..': 0,\n",
       " '.a': 1,\n",
       " '.b': 2,\n",
       " '.c': 3,\n",
       " '.d': 4,\n",
       " '.e': 5,\n",
       " '.f': 6,\n",
       " '.g': 7,\n",
       " '.h': 8,\n",
       " '.i': 9,\n",
       " '.j': 10,\n",
       " '.k': 11,\n",
       " '.l': 12,\n",
       " '.m': 13,\n",
       " '.n': 14,\n",
       " '.o': 15,\n",
       " '.p': 16,\n",
       " '.q': 17,\n",
       " '.r': 18,\n",
       " '.s': 19,\n",
       " '.t': 20,\n",
       " '.u': 21,\n",
       " '.v': 22,\n",
       " '.w': 23,\n",
       " '.x': 24,\n",
       " '.y': 25,\n",
       " '.z': 26,\n",
       " 'a.': 27,\n",
       " 'aa': 28,\n",
       " 'ab': 29,\n",
       " 'ac': 30,\n",
       " 'ad': 31,\n",
       " 'ae': 32,\n",
       " 'af': 33,\n",
       " 'ag': 34,\n",
       " 'ah': 35,\n",
       " 'ai': 36,\n",
       " 'aj': 37,\n",
       " 'ak': 38,\n",
       " 'al': 39,\n",
       " 'am': 40,\n",
       " 'an': 41,\n",
       " 'ao': 42,\n",
       " 'ap': 43,\n",
       " 'aq': 44,\n",
       " 'ar': 45,\n",
       " 'as': 46,\n",
       " 'at': 47,\n",
       " 'au': 48,\n",
       " 'av': 49,\n",
       " 'aw': 50,\n",
       " 'ax': 51,\n",
       " 'ay': 52,\n",
       " 'az': 53,\n",
       " 'b.': 54,\n",
       " 'ba': 55,\n",
       " 'bb': 56,\n",
       " 'bc': 57,\n",
       " 'bd': 58,\n",
       " 'be': 59,\n",
       " 'bf': 60,\n",
       " 'bg': 61,\n",
       " 'bh': 62,\n",
       " 'bi': 63,\n",
       " 'bj': 64,\n",
       " 'bk': 65,\n",
       " 'bl': 66,\n",
       " 'bm': 67,\n",
       " 'bn': 68,\n",
       " 'bo': 69,\n",
       " 'bp': 70,\n",
       " 'bq': 71,\n",
       " 'br': 72,\n",
       " 'bs': 73,\n",
       " 'bt': 74,\n",
       " 'bu': 75,\n",
       " 'bv': 76,\n",
       " 'bw': 77,\n",
       " 'bx': 78,\n",
       " 'by': 79,\n",
       " 'bz': 80,\n",
       " 'c.': 81,\n",
       " 'ca': 82,\n",
       " 'cb': 83,\n",
       " 'cc': 84,\n",
       " 'cd': 85,\n",
       " 'ce': 86,\n",
       " 'cf': 87,\n",
       " 'cg': 88,\n",
       " 'ch': 89,\n",
       " 'ci': 90,\n",
       " 'cj': 91,\n",
       " 'ck': 92,\n",
       " 'cl': 93,\n",
       " 'cm': 94,\n",
       " 'cn': 95,\n",
       " 'co': 96,\n",
       " 'cp': 97,\n",
       " 'cq': 98,\n",
       " 'cr': 99,\n",
       " 'cs': 100,\n",
       " 'ct': 101,\n",
       " 'cu': 102,\n",
       " 'cv': 103,\n",
       " 'cw': 104,\n",
       " 'cx': 105,\n",
       " 'cy': 106,\n",
       " 'cz': 107,\n",
       " 'd.': 108,\n",
       " 'da': 109,\n",
       " 'db': 110,\n",
       " 'dc': 111,\n",
       " 'dd': 112,\n",
       " 'de': 113,\n",
       " 'df': 114,\n",
       " 'dg': 115,\n",
       " 'dh': 116,\n",
       " 'di': 117,\n",
       " 'dj': 118,\n",
       " 'dk': 119,\n",
       " 'dl': 120,\n",
       " 'dm': 121,\n",
       " 'dn': 122,\n",
       " 'do': 123,\n",
       " 'dp': 124,\n",
       " 'dq': 125,\n",
       " 'dr': 126,\n",
       " 'ds': 127,\n",
       " 'dt': 128,\n",
       " 'du': 129,\n",
       " 'dv': 130,\n",
       " 'dw': 131,\n",
       " 'dx': 132,\n",
       " 'dy': 133,\n",
       " 'dz': 134,\n",
       " 'e.': 135,\n",
       " 'ea': 136,\n",
       " 'eb': 137,\n",
       " 'ec': 138,\n",
       " 'ed': 139,\n",
       " 'ee': 140,\n",
       " 'ef': 141,\n",
       " 'eg': 142,\n",
       " 'eh': 143,\n",
       " 'ei': 144,\n",
       " 'ej': 145,\n",
       " 'ek': 146,\n",
       " 'el': 147,\n",
       " 'em': 148,\n",
       " 'en': 149,\n",
       " 'eo': 150,\n",
       " 'ep': 151,\n",
       " 'eq': 152,\n",
       " 'er': 153,\n",
       " 'es': 154,\n",
       " 'et': 155,\n",
       " 'eu': 156,\n",
       " 'ev': 157,\n",
       " 'ew': 158,\n",
       " 'ex': 159,\n",
       " 'ey': 160,\n",
       " 'ez': 161,\n",
       " 'f.': 162,\n",
       " 'fa': 163,\n",
       " 'fb': 164,\n",
       " 'fc': 165,\n",
       " 'fd': 166,\n",
       " 'fe': 167,\n",
       " 'ff': 168,\n",
       " 'fg': 169,\n",
       " 'fh': 170,\n",
       " 'fi': 171,\n",
       " 'fj': 172,\n",
       " 'fk': 173,\n",
       " 'fl': 174,\n",
       " 'fm': 175,\n",
       " 'fn': 176,\n",
       " 'fo': 177,\n",
       " 'fp': 178,\n",
       " 'fq': 179,\n",
       " 'fr': 180,\n",
       " 'fs': 181,\n",
       " 'ft': 182,\n",
       " 'fu': 183,\n",
       " 'fv': 184,\n",
       " 'fw': 185,\n",
       " 'fx': 186,\n",
       " 'fy': 187,\n",
       " 'fz': 188,\n",
       " 'g.': 189,\n",
       " 'ga': 190,\n",
       " 'gb': 191,\n",
       " 'gc': 192,\n",
       " 'gd': 193,\n",
       " 'ge': 194,\n",
       " 'gf': 195,\n",
       " 'gg': 196,\n",
       " 'gh': 197,\n",
       " 'gi': 198,\n",
       " 'gj': 199,\n",
       " 'gk': 200,\n",
       " 'gl': 201,\n",
       " 'gm': 202,\n",
       " 'gn': 203,\n",
       " 'go': 204,\n",
       " 'gp': 205,\n",
       " 'gq': 206,\n",
       " 'gr': 207,\n",
       " 'gs': 208,\n",
       " 'gt': 209,\n",
       " 'gu': 210,\n",
       " 'gv': 211,\n",
       " 'gw': 212,\n",
       " 'gx': 213,\n",
       " 'gy': 214,\n",
       " 'gz': 215,\n",
       " 'h.': 216,\n",
       " 'ha': 217,\n",
       " 'hb': 218,\n",
       " 'hc': 219,\n",
       " 'hd': 220,\n",
       " 'he': 221,\n",
       " 'hf': 222,\n",
       " 'hg': 223,\n",
       " 'hh': 224,\n",
       " 'hi': 225,\n",
       " 'hj': 226,\n",
       " 'hk': 227,\n",
       " 'hl': 228,\n",
       " 'hm': 229,\n",
       " 'hn': 230,\n",
       " 'ho': 231,\n",
       " 'hp': 232,\n",
       " 'hq': 233,\n",
       " 'hr': 234,\n",
       " 'hs': 235,\n",
       " 'ht': 236,\n",
       " 'hu': 237,\n",
       " 'hv': 238,\n",
       " 'hw': 239,\n",
       " 'hx': 240,\n",
       " 'hy': 241,\n",
       " 'hz': 242,\n",
       " 'i.': 243,\n",
       " 'ia': 244,\n",
       " 'ib': 245,\n",
       " 'ic': 246,\n",
       " 'id': 247,\n",
       " 'ie': 248,\n",
       " 'if': 249,\n",
       " 'ig': 250,\n",
       " 'ih': 251,\n",
       " 'ii': 252,\n",
       " 'ij': 253,\n",
       " 'ik': 254,\n",
       " 'il': 255,\n",
       " 'im': 256,\n",
       " 'in': 257,\n",
       " 'io': 258,\n",
       " 'ip': 259,\n",
       " 'iq': 260,\n",
       " 'ir': 261,\n",
       " 'is': 262,\n",
       " 'it': 263,\n",
       " 'iu': 264,\n",
       " 'iv': 265,\n",
       " 'iw': 266,\n",
       " 'ix': 267,\n",
       " 'iy': 268,\n",
       " 'iz': 269,\n",
       " 'j.': 270,\n",
       " 'ja': 271,\n",
       " 'jb': 272,\n",
       " 'jc': 273,\n",
       " 'jd': 274,\n",
       " 'je': 275,\n",
       " 'jf': 276,\n",
       " 'jg': 277,\n",
       " 'jh': 278,\n",
       " 'ji': 279,\n",
       " 'jj': 280,\n",
       " 'jk': 281,\n",
       " 'jl': 282,\n",
       " 'jm': 283,\n",
       " 'jn': 284,\n",
       " 'jo': 285,\n",
       " 'jp': 286,\n",
       " 'jq': 287,\n",
       " 'jr': 288,\n",
       " 'js': 289,\n",
       " 'jt': 290,\n",
       " 'ju': 291,\n",
       " 'jv': 292,\n",
       " 'jw': 293,\n",
       " 'jx': 294,\n",
       " 'jy': 295,\n",
       " 'jz': 296,\n",
       " 'k.': 297,\n",
       " 'ka': 298,\n",
       " 'kb': 299,\n",
       " 'kc': 300,\n",
       " 'kd': 301,\n",
       " 'ke': 302,\n",
       " 'kf': 303,\n",
       " 'kg': 304,\n",
       " 'kh': 305,\n",
       " 'ki': 306,\n",
       " 'kj': 307,\n",
       " 'kk': 308,\n",
       " 'kl': 309,\n",
       " 'km': 310,\n",
       " 'kn': 311,\n",
       " 'ko': 312,\n",
       " 'kp': 313,\n",
       " 'kq': 314,\n",
       " 'kr': 315,\n",
       " 'ks': 316,\n",
       " 'kt': 317,\n",
       " 'ku': 318,\n",
       " 'kv': 319,\n",
       " 'kw': 320,\n",
       " 'kx': 321,\n",
       " 'ky': 322,\n",
       " 'kz': 323,\n",
       " 'l.': 324,\n",
       " 'la': 325,\n",
       " 'lb': 326,\n",
       " 'lc': 327,\n",
       " 'ld': 328,\n",
       " 'le': 329,\n",
       " 'lf': 330,\n",
       " 'lg': 331,\n",
       " 'lh': 332,\n",
       " 'li': 333,\n",
       " 'lj': 334,\n",
       " 'lk': 335,\n",
       " 'll': 336,\n",
       " 'lm': 337,\n",
       " 'ln': 338,\n",
       " 'lo': 339,\n",
       " 'lp': 340,\n",
       " 'lq': 341,\n",
       " 'lr': 342,\n",
       " 'ls': 343,\n",
       " 'lt': 344,\n",
       " 'lu': 345,\n",
       " 'lv': 346,\n",
       " 'lw': 347,\n",
       " 'lx': 348,\n",
       " 'ly': 349,\n",
       " 'lz': 350,\n",
       " 'm.': 351,\n",
       " 'ma': 352,\n",
       " 'mb': 353,\n",
       " 'mc': 354,\n",
       " 'md': 355,\n",
       " 'me': 356,\n",
       " 'mf': 357,\n",
       " 'mg': 358,\n",
       " 'mh': 359,\n",
       " 'mi': 360,\n",
       " 'mj': 361,\n",
       " 'mk': 362,\n",
       " 'ml': 363,\n",
       " 'mm': 364,\n",
       " 'mn': 365,\n",
       " 'mo': 366,\n",
       " 'mp': 367,\n",
       " 'mq': 368,\n",
       " 'mr': 369,\n",
       " 'ms': 370,\n",
       " 'mt': 371,\n",
       " 'mu': 372,\n",
       " 'mv': 373,\n",
       " 'mw': 374,\n",
       " 'mx': 375,\n",
       " 'my': 376,\n",
       " 'mz': 377,\n",
       " 'n.': 378,\n",
       " 'na': 379,\n",
       " 'nb': 380,\n",
       " 'nc': 381,\n",
       " 'nd': 382,\n",
       " 'ne': 383,\n",
       " 'nf': 384,\n",
       " 'ng': 385,\n",
       " 'nh': 386,\n",
       " 'ni': 387,\n",
       " 'nj': 388,\n",
       " 'nk': 389,\n",
       " 'nl': 390,\n",
       " 'nm': 391,\n",
       " 'nn': 392,\n",
       " 'no': 393,\n",
       " 'np': 394,\n",
       " 'nq': 395,\n",
       " 'nr': 396,\n",
       " 'ns': 397,\n",
       " 'nt': 398,\n",
       " 'nu': 399,\n",
       " 'nv': 400,\n",
       " 'nw': 401,\n",
       " 'nx': 402,\n",
       " 'ny': 403,\n",
       " 'nz': 404,\n",
       " 'o.': 405,\n",
       " 'oa': 406,\n",
       " 'ob': 407,\n",
       " 'oc': 408,\n",
       " 'od': 409,\n",
       " 'oe': 410,\n",
       " 'of': 411,\n",
       " 'og': 412,\n",
       " 'oh': 413,\n",
       " 'oi': 414,\n",
       " 'oj': 415,\n",
       " 'ok': 416,\n",
       " 'ol': 417,\n",
       " 'om': 418,\n",
       " 'on': 419,\n",
       " 'oo': 420,\n",
       " 'op': 421,\n",
       " 'oq': 422,\n",
       " 'or': 423,\n",
       " 'os': 424,\n",
       " 'ot': 425,\n",
       " 'ou': 426,\n",
       " 'ov': 427,\n",
       " 'ow': 428,\n",
       " 'ox': 429,\n",
       " 'oy': 430,\n",
       " 'oz': 431,\n",
       " 'p.': 432,\n",
       " 'pa': 433,\n",
       " 'pb': 434,\n",
       " 'pc': 435,\n",
       " 'pd': 436,\n",
       " 'pe': 437,\n",
       " 'pf': 438,\n",
       " 'pg': 439,\n",
       " 'ph': 440,\n",
       " 'pi': 441,\n",
       " 'pj': 442,\n",
       " 'pk': 443,\n",
       " 'pl': 444,\n",
       " 'pm': 445,\n",
       " 'pn': 446,\n",
       " 'po': 447,\n",
       " 'pp': 448,\n",
       " 'pq': 449,\n",
       " 'pr': 450,\n",
       " 'ps': 451,\n",
       " 'pt': 452,\n",
       " 'pu': 453,\n",
       " 'pv': 454,\n",
       " 'pw': 455,\n",
       " 'px': 456,\n",
       " 'py': 457,\n",
       " 'pz': 458,\n",
       " 'q.': 459,\n",
       " 'qa': 460,\n",
       " 'qb': 461,\n",
       " 'qc': 462,\n",
       " 'qd': 463,\n",
       " 'qe': 464,\n",
       " 'qf': 465,\n",
       " 'qg': 466,\n",
       " 'qh': 467,\n",
       " 'qi': 468,\n",
       " 'qj': 469,\n",
       " 'qk': 470,\n",
       " 'ql': 471,\n",
       " 'qm': 472,\n",
       " 'qn': 473,\n",
       " 'qo': 474,\n",
       " 'qp': 475,\n",
       " 'qq': 476,\n",
       " 'qr': 477,\n",
       " 'qs': 478,\n",
       " 'qt': 479,\n",
       " 'qu': 480,\n",
       " 'qv': 481,\n",
       " 'qw': 482,\n",
       " 'qx': 483,\n",
       " 'qy': 484,\n",
       " 'qz': 485,\n",
       " 'r.': 486,\n",
       " 'ra': 487,\n",
       " 'rb': 488,\n",
       " 'rc': 489,\n",
       " 'rd': 490,\n",
       " 're': 491,\n",
       " 'rf': 492,\n",
       " 'rg': 493,\n",
       " 'rh': 494,\n",
       " 'ri': 495,\n",
       " 'rj': 496,\n",
       " 'rk': 497,\n",
       " 'rl': 498,\n",
       " 'rm': 499,\n",
       " 'rn': 500,\n",
       " 'ro': 501,\n",
       " 'rp': 502,\n",
       " 'rq': 503,\n",
       " 'rr': 504,\n",
       " 'rs': 505,\n",
       " 'rt': 506,\n",
       " 'ru': 507,\n",
       " 'rv': 508,\n",
       " 'rw': 509,\n",
       " 'rx': 510,\n",
       " 'ry': 511,\n",
       " 'rz': 512,\n",
       " 's.': 513,\n",
       " 'sa': 514,\n",
       " 'sb': 515,\n",
       " 'sc': 516,\n",
       " 'sd': 517,\n",
       " 'se': 518,\n",
       " 'sf': 519,\n",
       " 'sg': 520,\n",
       " 'sh': 521,\n",
       " 'si': 522,\n",
       " 'sj': 523,\n",
       " 'sk': 524,\n",
       " 'sl': 525,\n",
       " 'sm': 526,\n",
       " 'sn': 527,\n",
       " 'so': 528,\n",
       " 'sp': 529,\n",
       " 'sq': 530,\n",
       " 'sr': 531,\n",
       " 'ss': 532,\n",
       " 'st': 533,\n",
       " 'su': 534,\n",
       " 'sv': 535,\n",
       " 'sw': 536,\n",
       " 'sx': 537,\n",
       " 'sy': 538,\n",
       " 'sz': 539,\n",
       " 't.': 540,\n",
       " 'ta': 541,\n",
       " 'tb': 542,\n",
       " 'tc': 543,\n",
       " 'td': 544,\n",
       " 'te': 545,\n",
       " 'tf': 546,\n",
       " 'tg': 547,\n",
       " 'th': 548,\n",
       " 'ti': 549,\n",
       " 'tj': 550,\n",
       " 'tk': 551,\n",
       " 'tl': 552,\n",
       " 'tm': 553,\n",
       " 'tn': 554,\n",
       " 'to': 555,\n",
       " 'tp': 556,\n",
       " 'tq': 557,\n",
       " 'tr': 558,\n",
       " 'ts': 559,\n",
       " 'tt': 560,\n",
       " 'tu': 561,\n",
       " 'tv': 562,\n",
       " 'tw': 563,\n",
       " 'tx': 564,\n",
       " 'ty': 565,\n",
       " 'tz': 566,\n",
       " 'u.': 567,\n",
       " 'ua': 568,\n",
       " 'ub': 569,\n",
       " 'uc': 570,\n",
       " 'ud': 571,\n",
       " 'ue': 572,\n",
       " 'uf': 573,\n",
       " 'ug': 574,\n",
       " 'uh': 575,\n",
       " 'ui': 576,\n",
       " 'uj': 577,\n",
       " 'uk': 578,\n",
       " 'ul': 579,\n",
       " 'um': 580,\n",
       " 'un': 581,\n",
       " 'uo': 582,\n",
       " 'up': 583,\n",
       " 'uq': 584,\n",
       " 'ur': 585,\n",
       " 'us': 586,\n",
       " 'ut': 587,\n",
       " 'uu': 588,\n",
       " 'uv': 589,\n",
       " 'uw': 590,\n",
       " 'ux': 591,\n",
       " 'uy': 592,\n",
       " 'uz': 593,\n",
       " 'v.': 594,\n",
       " 'va': 595,\n",
       " 'vb': 596,\n",
       " 'vc': 597,\n",
       " 'vd': 598,\n",
       " 've': 599,\n",
       " 'vf': 600,\n",
       " 'vg': 601,\n",
       " 'vh': 602,\n",
       " 'vi': 603,\n",
       " 'vj': 604,\n",
       " 'vk': 605,\n",
       " 'vl': 606,\n",
       " 'vm': 607,\n",
       " 'vn': 608,\n",
       " 'vo': 609,\n",
       " 'vp': 610,\n",
       " 'vq': 611,\n",
       " 'vr': 612,\n",
       " 'vs': 613,\n",
       " 'vt': 614,\n",
       " 'vu': 615,\n",
       " 'vv': 616,\n",
       " 'vw': 617,\n",
       " 'vx': 618,\n",
       " 'vy': 619,\n",
       " 'vz': 620,\n",
       " 'w.': 621,\n",
       " 'wa': 622,\n",
       " 'wb': 623,\n",
       " 'wc': 624,\n",
       " 'wd': 625,\n",
       " 'we': 626,\n",
       " 'wf': 627,\n",
       " 'wg': 628,\n",
       " 'wh': 629,\n",
       " 'wi': 630,\n",
       " 'wj': 631,\n",
       " 'wk': 632,\n",
       " 'wl': 633,\n",
       " 'wm': 634,\n",
       " 'wn': 635,\n",
       " 'wo': 636,\n",
       " 'wp': 637,\n",
       " 'wq': 638,\n",
       " 'wr': 639,\n",
       " 'ws': 640,\n",
       " 'wt': 641,\n",
       " 'wu': 642,\n",
       " 'wv': 643,\n",
       " 'ww': 644,\n",
       " 'wx': 645,\n",
       " 'wy': 646,\n",
       " 'wz': 647,\n",
       " 'x.': 648,\n",
       " 'xa': 649,\n",
       " 'xb': 650,\n",
       " 'xc': 651,\n",
       " 'xd': 652,\n",
       " 'xe': 653,\n",
       " 'xf': 654,\n",
       " 'xg': 655,\n",
       " 'xh': 656,\n",
       " 'xi': 657,\n",
       " 'xj': 658,\n",
       " 'xk': 659,\n",
       " 'xl': 660,\n",
       " 'xm': 661,\n",
       " 'xn': 662,\n",
       " 'xo': 663,\n",
       " 'xp': 664,\n",
       " 'xq': 665,\n",
       " 'xr': 666,\n",
       " 'xs': 667,\n",
       " 'xt': 668,\n",
       " 'xu': 669,\n",
       " 'xv': 670,\n",
       " 'xw': 671,\n",
       " 'xx': 672,\n",
       " 'xy': 673,\n",
       " 'xz': 674,\n",
       " 'y.': 675,\n",
       " 'ya': 676,\n",
       " 'yb': 677,\n",
       " 'yc': 678,\n",
       " 'yd': 679,\n",
       " 'ye': 680,\n",
       " 'yf': 681,\n",
       " 'yg': 682,\n",
       " 'yh': 683,\n",
       " 'yi': 684,\n",
       " 'yj': 685,\n",
       " 'yk': 686,\n",
       " 'yl': 687,\n",
       " 'ym': 688,\n",
       " 'yn': 689,\n",
       " 'yo': 690,\n",
       " 'yp': 691,\n",
       " 'yq': 692,\n",
       " 'yr': 693,\n",
       " 'ys': 694,\n",
       " 'yt': 695,\n",
       " 'yu': 696,\n",
       " 'yv': 697,\n",
       " 'yw': 698,\n",
       " 'yx': 699,\n",
       " 'yy': 700,\n",
       " 'yz': 701,\n",
       " 'z.': 702,\n",
       " 'za': 703,\n",
       " 'zb': 704,\n",
       " 'zc': 705,\n",
       " 'zd': 706,\n",
       " 'ze': 707,\n",
       " 'zf': 708,\n",
       " 'zg': 709,\n",
       " 'zh': 710,\n",
       " 'zi': 711,\n",
       " 'zj': 712,\n",
       " 'zk': 713,\n",
       " 'zl': 714,\n",
       " 'zm': 715,\n",
       " 'zn': 716,\n",
       " 'zo': 717,\n",
       " 'zp': 718,\n",
       " 'zq': 719,\n",
       " 'zr': 720,\n",
       " 'zs': 721,\n",
       " 'zt': 722,\n",
       " 'zu': 723,\n",
       " 'zv': 724,\n",
       " 'zw': 725,\n",
       " 'zx': 726,\n",
       " 'zy': 727,\n",
       " 'zz': 728}"
      ]
     },
     "execution_count": 513,
     "metadata": {},
     "output_type": "execute_result"
    }
   ],
   "source": [
    "stoi_xs"
   ]
  },
  {
   "cell_type": "markdown",
   "id": "039d6e1e-8a3c-4e08-8f49-b4c462c5068d",
   "metadata": {},
   "source": [
    "### Creating training set of trigrams"
   ]
  },
  {
   "cell_type": "code",
   "execution_count": 516,
   "id": "b3295a9f-54dd-47e2-9b20-1e227e34582b",
   "metadata": {},
   "outputs": [],
   "source": [
    "import torch"
   ]
  },
  {
   "cell_type": "code",
   "execution_count": 518,
   "id": "aa4e7a7b-ea31-4b34-8e10-c281ea228243",
   "metadata": {},
   "outputs": [
    {
     "name": "stdout",
     "output_type": "stream",
     "text": [
      "first trigram :\n",
      ".e m\n",
      "5 13\n"
     ]
    }
   ],
   "source": [
    "xs = []\n",
    "ys = []\n",
    "printed=False\n",
    "for w in words:\n",
    "    chs = ['.'] + list(w) + ['.']\n",
    "    for i in range(len(chs)-2):\n",
    "        ch1 = chs[i] + chs[i+1]\n",
    "        ch2 = chs[i+2]\n",
    "            \n",
    "        ix1 = stoi_xs[ch1]\n",
    "        ix2 = stoi_ys[ch2]\n",
    "        if not printed:\n",
    "            print('first trigram :')\n",
    "            print(ch1,ch2)\n",
    "            print(ix1,ix2)\n",
    "            printed=True\n",
    "        xs.append(ix1)\n",
    "        ys.append(ix2)\n",
    "                               \n",
    "xs = torch.tensor(xs, dtype=torch.long)\n",
    "ys = torch.tensor(ys, dtype=torch.long)"
   ]
  },
  {
   "cell_type": "code",
   "execution_count": 520,
   "id": "9b13f7c9-8b13-4a9f-a0ec-432bd3d25dfb",
   "metadata": {},
   "outputs": [
    {
     "data": {
      "text/plain": [
       "(tensor(1), tensor(728))"
      ]
     },
     "execution_count": 520,
     "metadata": {},
     "output_type": "execute_result"
    }
   ],
   "source": [
    "min(xs),max(xs)"
   ]
  },
  {
   "cell_type": "code",
   "execution_count": 521,
   "id": "e1c4cc00-033c-4ca9-a54d-3a50820fb871",
   "metadata": {},
   "outputs": [
    {
     "data": {
      "text/plain": [
       "(tensor(0), tensor(26))"
      ]
     },
     "execution_count": 521,
     "metadata": {},
     "output_type": "execute_result"
    }
   ],
   "source": [
    "min(ys),max(ys)"
   ]
  },
  {
   "cell_type": "code",
   "execution_count": 522,
   "id": "6c8a0f73-dcf4-435e-ac25-d59d02868234",
   "metadata": {},
   "outputs": [
    {
     "data": {
      "text/plain": [
       "(196113, 196113)"
      ]
     },
     "execution_count": 522,
     "metadata": {},
     "output_type": "execute_result"
    }
   ],
   "source": [
    "len(xs), len(ys)"
   ]
  },
  {
   "cell_type": "markdown",
   "id": "3a24bac8-ca20-4b6d-b2f6-2478cd733c4b",
   "metadata": {},
   "source": [
    "### Doing a single trigram pass"
   ]
  },
  {
   "cell_type": "code",
   "execution_count": 525,
   "id": "341c0332-31f9-4cd8-98a5-936ae2b41788",
   "metadata": {},
   "outputs": [],
   "source": [
    "import torch.nn.functional as F"
   ]
  },
  {
   "cell_type": "code",
   "execution_count": 526,
   "id": "212a47d9-2bda-41ed-b2c9-4aded480d8a0",
   "metadata": {},
   "outputs": [],
   "source": [
    "xenc = F.one_hot(xs, num_classes=729).float()"
   ]
  },
  {
   "cell_type": "code",
   "execution_count": 531,
   "id": "5524ede3-bb03-47ff-b6ec-f53f4efe4d24",
   "metadata": {},
   "outputs": [
    {
     "data": {
      "text/plain": [
       "torch.Size([196113, 729])"
      ]
     },
     "execution_count": 531,
     "metadata": {},
     "output_type": "execute_result"
    }
   ],
   "source": [
    "xenc.shape"
   ]
  },
  {
   "cell_type": "code",
   "execution_count": 533,
   "id": "cecaad39-6394-42a0-ae75-938d2e6232c9",
   "metadata": {},
   "outputs": [],
   "source": [
    "g = torch.Generator().manual_seed(42)\n",
    "W = torch.randn((729,27), generator=g)"
   ]
  },
  {
   "cell_type": "code",
   "execution_count": 535,
   "id": "786d0dd2-3297-4957-867f-361b47a90c54",
   "metadata": {},
   "outputs": [],
   "source": [
    "logits = xenc @ W\n",
    "count = logits.exp()\n",
    "probs = count / count.sum(dim=1, keepdims=True)"
   ]
  },
  {
   "cell_type": "code",
   "execution_count": 537,
   "id": "a3fbcda2-4946-4ac9-b6d0-051e7f454367",
   "metadata": {},
   "outputs": [
    {
     "data": {
      "text/plain": [
       "torch.Size([196113, 27])"
      ]
     },
     "execution_count": 537,
     "metadata": {},
     "output_type": "execute_result"
    }
   ],
   "source": [
    "probs.shape"
   ]
  },
  {
   "cell_type": "code",
   "execution_count": 539,
   "id": "ff37a54e-c2b6-4193-a81d-4fca711be62b",
   "metadata": {},
   "outputs": [
    {
     "data": {
      "text/plain": [
       "5"
      ]
     },
     "execution_count": 539,
     "metadata": {},
     "output_type": "execute_result"
    }
   ],
   "source": [
    "xs[0].item()"
   ]
  },
  {
   "cell_type": "code",
   "execution_count": 541,
   "id": "ffe65d44-269d-4588-a431-11a27ea86288",
   "metadata": {},
   "outputs": [
    {
     "data": {
      "text/plain": [
       "('.e', 'm')"
      ]
     },
     "execution_count": 541,
     "metadata": {},
     "output_type": "execute_result"
    }
   ],
   "source": [
    "itos_xs[xs[0].item()],itos_ys[ys[0].item()]"
   ]
  },
  {
   "cell_type": "code",
   "execution_count": 543,
   "id": "511c7609-a56f-49b6-b9cb-b2b8460893c1",
   "metadata": {},
   "outputs": [
    {
     "data": {
      "text/plain": [
       "tensor(0.0292)"
      ]
     },
     "execution_count": 543,
     "metadata": {},
     "output_type": "execute_result"
    }
   ],
   "source": [
    "probs[0,ys[0].item()]"
   ]
  },
  {
   "cell_type": "markdown",
   "id": "c2143cd0-22f5-47a9-a8bc-b698564176a3",
   "metadata": {},
   "source": [
    "### Training the trigram neural net"
   ]
  },
  {
   "cell_type": "code",
   "execution_count": 830,
   "id": "2f0bcab3-c853-4f02-b21b-447df854fafc",
   "metadata": {},
   "outputs": [],
   "source": [
    "xenc = F.one_hot(xs, num_classes=729).float()\n",
    "g = torch.Generator().manual_seed(42)\n",
    "W = torch.randn((729,27), generator=g, requires_grad=True)"
   ]
  },
  {
   "cell_type": "code",
   "execution_count": 832,
   "id": "30e458bc-f14a-4a36-b230-25eb6fe0a02d",
   "metadata": {},
   "outputs": [
    {
     "name": "stdout",
     "output_type": "stream",
     "text": [
      "Rounds : 1 | Loss : 3.71\n",
      "Rounds : 50 | Loss : 2.40\n",
      "Rounds : 100 | Loss : 2.26\n",
      "Rounds : 150 | Loss : 2.21\n",
      "Rounds : 200 | Loss : 2.18\n",
      "Rounds : 250 | Loss : 2.16\n",
      "Rounds : 300 | Loss : 2.14\n",
      "Rounds : 350 | Loss : 2.13\n",
      "Rounds : 400 | Loss : 2.13\n",
      "Rounds : 450 | Loss : 2.12\n",
      "Rounds : 500 | Loss : 2.11\n"
     ]
    }
   ],
   "source": [
    "max_rounds=500\n",
    "learning_rate = 100\n",
    "rounds=0\n",
    "losses=[]\n",
    "for iterations in range(max_rounds):\n",
    "    logits = xenc @ W\n",
    "    count = logits.exp()\n",
    "    probs = count / count.sum(dim=1, keepdims=True)\n",
    "    loss = -probs[torch.arange(len(xs)), ys].log().mean()\n",
    "    losses.append(loss.item())\n",
    "    rounds+=1\n",
    "    if (rounds==1) | (rounds%50==0):\n",
    "        print(f'Rounds : {rounds} | Loss : {loss.item():.2f}')\n",
    "    W.grad = None\n",
    "    loss.backward()\n",
    "    W.data += -learning_rate * W.grad"
   ]
  },
  {
   "cell_type": "code",
   "execution_count": 836,
   "id": "8720e47c-37b5-41eb-a6aa-b701fb4151df",
   "metadata": {},
   "outputs": [
    {
     "data": {
      "text/plain": [
       "Text(0, 0.5, 'Losses')"
      ]
     },
     "execution_count": 836,
     "metadata": {},
     "output_type": "execute_result"
    },
    {
     "data": {
      "image/png": "[encoded data removed]",
      "text/plain": [
       "<Figure size 640x480 with 1 Axes>"
      ]
     },
     "metadata": {},
     "output_type": "display_data"
    }
   ],
   "source": [
    "import matplotlib.pyplot as plt\n",
    "%matplotlib inline\n",
    "plt.plot(range(len(losses)), losses)\n",
    "plt.xlabel('Rounds')\n",
    "plt.ylabel('Losses')"
   ]
  },
  {
   "cell_type": "markdown",
   "id": "9c17c6fb-665c-40f5-9b95-2c956aceb5f5",
   "metadata": {},
   "source": [
    "### Predictions"
   ]
  },
  {
   "cell_type": "code",
   "execution_count": 839,
   "id": "6bcd188a-de6c-4af3-bc56-5993fe2b237f",
   "metadata": {},
   "outputs": [
    {
     "data": {
      "text/plain": [
       "{'.a': 1,\n",
       " '.b': 2,\n",
       " '.c': 3,\n",
       " '.d': 4,\n",
       " '.e': 5,\n",
       " '.f': 6,\n",
       " '.g': 7,\n",
       " '.h': 8,\n",
       " '.i': 9,\n",
       " '.j': 10,\n",
       " '.k': 11,\n",
       " '.l': 12,\n",
       " '.m': 13,\n",
       " '.n': 14,\n",
       " '.o': 15,\n",
       " '.p': 16,\n",
       " '.q': 17,\n",
       " '.r': 18,\n",
       " '.s': 19,\n",
       " '.t': 20,\n",
       " '.u': 21,\n",
       " '.v': 22,\n",
       " '.w': 23,\n",
       " '.x': 24,\n",
       " '.y': 25,\n",
       " '.z': 26}"
      ]
     },
     "execution_count": 839,
     "metadata": {},
     "output_type": "execute_result"
    }
   ],
   "source": [
    "{k:v for k,v in stoi_xs.items() if k[0] == '.' if k[1] != '.'} # valid starting bigrams"
   ]
  },
  {
   "cell_type": "code",
   "execution_count": 841,
   "id": "241ae8d1-e55a-4534-8d57-67cd22c7c121",
   "metadata": {},
   "outputs": [
    {
     "name": "stdout",
     "output_type": "stream",
     "text": [
      "brawilyn\n",
      "xydenehi\n",
      "daikalyn\n",
      "yab\n",
      "xan\n",
      "quinois\n",
      "quigh\n",
      "cor\n",
      "ta\n",
      "quilly\n",
      "fexan\n",
      "xmck\n",
      "maelory\n",
      "dem\n",
      "jhana\n",
      "brisofina\n",
      "dasir\n",
      "kaee\n",
      "rekiyah\n",
      "dalotalyn\n"
     ]
    }
   ],
   "source": [
    "g = torch.Generator().manual_seed(99)\n",
    "N = 20\n",
    "for xs_input_i in torch.randint(low=1, high=27, size=(N,),generator=g): # get a valid starting bigram\n",
    "    xs_input_i = xs_input_i.item()\n",
    "    xs_input_s = itos_xs[xs_input_i]\n",
    "    out = [xs_input_s]\n",
    "    while True:\n",
    "        xenc_inf = F.one_hot(torch.tensor([xs_input_i]), num_classes=729).float()\n",
    "        logits = xenc_inf @ W\n",
    "        count = logits.exp()\n",
    "        probs = count / count.sum(dim=1, keepdims=True)\n",
    "        ys_output_i = torch.multinomial(probs, num_samples=1, replacement=True, generator=g).item()\n",
    "        ys_output_s = itos_ys[ys_output_i] # using itos_ys instead itos_xs\n",
    "        out.append(ys_output_s)  \n",
    "        if ys_output_s == '.':\n",
    "            break\n",
    "        xs_input_i = stoi_xs[''.join(out)[-2] + ''.join(out)[-1]]\n",
    "    print(''.join(out)[1:-1])"
   ]
  }
 ],
 "metadata": {
  "kernelspec": {
   "display_name": "Python 3 (ipykernel)",
   "language": "python",
   "name": "python3"
  },
  "language_info": {
   "codemirror_mode": {
    "name": "ipython",
    "version": 3
   },
   "file_extension": ".py",
   "mimetype": "text/x-python",
   "name": "python",
   "nbconvert_exporter": "python",
   "pygments_lexer": "ipython3",
   "version": "3.12.4"
  }
 },
 "nbformat": 4,
 "nbformat_minor": 5
}
