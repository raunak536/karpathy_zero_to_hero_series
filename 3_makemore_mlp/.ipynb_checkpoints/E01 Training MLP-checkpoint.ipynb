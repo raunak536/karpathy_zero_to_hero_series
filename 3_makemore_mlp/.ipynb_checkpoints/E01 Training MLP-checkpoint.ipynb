{
 "cells": [
  {
   "cell_type": "code",
   "execution_count": 1,
   "id": "7ed64aeb-ff62-4176-99f2-c90edc684ac8",
   "metadata": {},
   "outputs": [],
   "source": [
    "import torch\n",
    "import torch.nn.functional as F\n",
    "import matplotlib.pyplot as plt\n",
    "%matplotlib inline\n",
    "from time import time"
   ]
  },
  {
   "cell_type": "markdown",
   "id": "a4859b96-8336-47e3-9f8a-81014fe9f448",
   "metadata": {},
   "source": [
    "### Building dataset"
   ]
  },
  {
   "cell_type": "code",
   "execution_count": 3,
   "id": "92d3945f-fba5-4a07-b924-201aceb0d6b5",
   "metadata": {},
   "outputs": [],
   "source": [
    "words = open('../2_makemore_bigrams/names.txt','r').read().splitlines()"
   ]
  },
  {
   "cell_type": "code",
   "execution_count": 4,
   "id": "e6b1a10a-5144-49d8-94b3-f455a179bc39",
   "metadata": {},
   "outputs": [
    {
     "data": {
      "text/plain": [
       "32033"
      ]
     },
     "execution_count": 4,
     "metadata": {},
     "output_type": "execute_result"
    }
   ],
   "source": [
    "len(words)"
   ]
  },
  {
   "cell_type": "code",
   "execution_count": 5,
   "id": "6307f0a9-81e3-4c4e-b393-94f3fcf261a0",
   "metadata": {},
   "outputs": [
    {
     "data": {
      "text/plain": [
       "['emma', 'olivia', 'ava', 'isabella', 'sophia']"
      ]
     },
     "execution_count": 5,
     "metadata": {},
     "output_type": "execute_result"
    }
   ],
   "source": [
    "words[:5]"
   ]
  },
  {
   "cell_type": "code",
   "execution_count": 7,
   "id": "6d8aa33f-f470-46bb-b5c7-e79e0a815476",
   "metadata": {},
   "outputs": [],
   "source": [
    "chars = sorted(list(set(''.join(words))))\n",
    "stoi = {i:enum+1 for enum, i in enumerate(chars)}\n",
    "stoi['.'] = 0\n",
    "itos = {v:k for k,v in stoi.items()}"
   ]
  },
  {
   "cell_type": "code",
   "execution_count": 8,
   "id": "d932ad5b-bdd8-4719-b379-4765693f3a85",
   "metadata": {},
   "outputs": [],
   "source": [
    "# build the dataset\n",
    "block_size = 3\n",
    "\n",
    "def build_dataset(words):\n",
    "    X=[]\n",
    "    Y=[]\n",
    "    for w in words:\n",
    "        context = [0] * block_size\n",
    "        for ch in w+'.':\n",
    "            ix = stoi[ch]\n",
    "            X.append(context)\n",
    "            Y.append(ix)\n",
    "            context = context[1:] + [ix]\n",
    "    X = torch.tensor(X)\n",
    "    Y = torch.tensor(Y)\n",
    "    print(X.shape, Y.shape)\n",
    "    return X,Y"
   ]
  },
  {
   "cell_type": "code",
   "execution_count": 14,
   "id": "d9aaf9dd-77e1-4da6-9ce2-0e07e66a1d7a",
   "metadata": {},
   "outputs": [],
   "source": [
    "import random\n",
    "random.seed(42)\n",
    "random.shuffle(words)"
   ]
  },
  {
   "cell_type": "code",
   "execution_count": 16,
   "id": "f5467fe5-8a63-4c17-9cf0-483a548f56b5",
   "metadata": {},
   "outputs": [],
   "source": [
    "n1 = int(len(words)*0.8)\n",
    "n2 = int(len(words)*0.9)"
   ]
  },
  {
   "cell_type": "code",
   "execution_count": 18,
   "id": "43fff274-440b-451b-9d4c-ca61b1d310c9",
   "metadata": {},
   "outputs": [
    {
     "name": "stdout",
     "output_type": "stream",
     "text": [
      "torch.Size([182625, 3]) torch.Size([182625])\n",
      "torch.Size([22655, 3]) torch.Size([22655])\n",
      "torch.Size([22866, 3]) torch.Size([22866])\n"
     ]
    }
   ],
   "source": [
    "Xtr,Ytr = build_dataset(words[:n1])\n",
    "Xdev,Ydev = build_dataset(words[n1:n2])\n",
    "Xte,Yte = build_dataset(words[n2:])"
   ]
  },
  {
   "cell_type": "markdown",
   "id": "0530f7fe-960f-4bb3-b69b-9808ac4ce243",
   "metadata": {},
   "source": [
    "### Choosing best hyperparamters"
   ]
  },
  {
   "cell_type": "code",
   "execution_count": 21,
   "id": "141671ed-d1de-436d-8ac0-0c20ee708b65",
   "metadata": {},
   "outputs": [],
   "source": [
    "device = torch.device('mps')\n",
    "Xtr = Xtr.to(device)\n",
    "Ytr = Ytr.to(device)\n",
    "Xdev = Xdev.to(device)\n",
    "Ydev = Ydev.to(device)\n",
    "Xte = Xte.to(device)\n",
    "Yte = Yte.to(device)"
   ]
  },
  {
   "cell_type": "code",
   "execution_count": 23,
   "id": "1062a352-795d-41ab-8229-5788cd47408d",
   "metadata": {},
   "outputs": [],
   "source": [
    "hyperparameter_space = {\n",
    "    'n_emb' : [2, 10, 100],\n",
    "    'n_hidden' : [100,200,400]\n",
    "}"
   ]
  },
  {
   "cell_type": "code",
   "execution_count": 25,
   "id": "61f4e487-5144-412d-9039-1b8e9a5ea7a7",
   "metadata": {
    "scrolled": true
   },
   "outputs": [
    {
     "name": "stdout",
     "output_type": "stream",
     "text": [
      "------------------------------------------------\n",
      "Iterating ... n_emb : 2 n_hidden : 100\n",
      "Total parameters : 3481\n",
      "loss_train | loss_dev : 2.521 | 2.364\n",
      "------------------------------------------------\n",
      "Iterating ... n_emb : 2 n_hidden : 200\n",
      "Total parameters : 6881\n",
      "loss_train | loss_dev : 2.325 | 2.349\n",
      "------------------------------------------------\n",
      "Iterating ... n_emb : 2 n_hidden : 400\n",
      "Total parameters : 13681\n",
      "loss_train | loss_dev : 2.265 | 2.339\n",
      "------------------------------------------------\n",
      "Iterating ... n_emb : 10 n_hidden : 100\n",
      "Total parameters : 6097\n",
      "loss_train | loss_dev : 1.948 | 2.293\n",
      "------------------------------------------------\n",
      "Iterating ... n_emb : 10 n_hidden : 200\n",
      "Total parameters : 11897\n",
      "loss_train | loss_dev : 2.509 | 2.319\n",
      "------------------------------------------------\n",
      "Iterating ... n_emb : 10 n_hidden : 400\n",
      "Total parameters : 23497\n",
      "loss_train | loss_dev : 2.512 | 2.337\n",
      "------------------------------------------------\n",
      "Iterating ... n_emb : 100 n_hidden : 100\n",
      "Total parameters : 35527\n",
      "loss_train | loss_dev : 2.028 | 2.268\n",
      "------------------------------------------------\n",
      "Iterating ... n_emb : 100 n_hidden : 200\n",
      "Total parameters : 68327\n",
      "loss_train | loss_dev : 2.248 | 2.275\n",
      "------------------------------------------------\n",
      "Iterating ... n_emb : 100 n_hidden : 400\n",
      "Total parameters : 133927\n",
      "loss_train | loss_dev : 2.115 | 2.381\n"
     ]
    }
   ],
   "source": [
    "losses_grid = {}\n",
    "for n_emb in hyperparameter_space['n_emb']:\n",
    "    for n_hidden in hyperparameter_space['n_hidden']:\n",
    "        print('------------------------------------------------')\n",
    "        print(f\"Iterating ... n_emb : {n_emb} n_hidden : {n_hidden}\")\n",
    "        g = torch.Generator(device=device).manual_seed(99)\n",
    "        C = torch.randn((27, n_emb), generator=g, device=device)\n",
    "        W1 = torch.randn((n_emb*3, n_hidden), generator=g, device=device)\n",
    "        b1 = torch.randn(n_hidden, generator=g, device=device)\n",
    "        W2 = torch.randn((n_hidden,27), generator=g, device=device)\n",
    "        b2 = torch.randn(27, generator=g, device=device)\n",
    "        parameters = [C, W1,W2,b1,b2]\n",
    "        for p in parameters:\n",
    "            p.requires_grad = True\n",
    "        print(f\"Total parameters : {sum(p.nelement() for p in parameters)}\")\n",
    "        for steps in range(30000):\n",
    "            minibatch = torch.randint(0,Xtr.shape[0],(32,))\n",
    "            emb = C[Xtr[minibatch]].view(-1, n_emb*3)\n",
    "            l1 = torch.tanh(emb @ W1 + b1)\n",
    "            logits = l1 @ W2 + b2\n",
    "            loss_train = F.cross_entropy(logits, Ytr[minibatch])\n",
    "            for p in parameters:\n",
    "                p.grad = None\n",
    "            loss_train.backward()\n",
    "            lr = 0.1 if steps < 15000 else 0.01\n",
    "            for p in parameters:\n",
    "                p.data += -lr*p.grad\n",
    "\n",
    "            with torch.no_grad():\n",
    "                emb = C[Xdev].view(-1, n_emb*3)\n",
    "                l1 = torch.tanh(emb @ W1 + b1)\n",
    "                logits = l1 @ W2 + b2\n",
    "                loss_dev = F.cross_entropy(logits, Ydev)\n",
    "                \n",
    "        losses_grid[f\"n_emb_{n_emb}_n_hidden_{n_hidden}_loss_train\"] = loss_train\n",
    "        losses_grid[f\"n_emb_{n_emb}_n_hidden_{n_hidden}_loss_dev\"] = loss_dev\n",
    "        print(f\"loss_train | loss_dev : {round(loss_train.item(),3)} | {round(loss_dev.item(),3)}\")\n"
   ]
  },
  {
   "cell_type": "markdown",
   "id": "9bf6988c-9c0b-40fc-aca1-289a243533a9",
   "metadata": {},
   "source": [
    "```Best HP - n_emb : 100 n_hidden : 100```"
   ]
  },
  {
   "cell_type": "markdown",
   "id": "fa62e866-7645-4f21-887c-7d12cbb43d86",
   "metadata": {},
   "source": [
    "### Final Training run"
   ]
  },
  {
   "cell_type": "code",
   "execution_count": 30,
   "id": "fe9b2e8f-4f2a-46ba-8716-66682a35432b",
   "metadata": {},
   "outputs": [
    {
     "name": "stdout",
     "output_type": "stream",
     "text": [
      "Total parameters : 35527\n",
      "loss_train | loss_dev : 1.876 | 2.159\n"
     ]
    }
   ],
   "source": [
    "n_emb = 100\n",
    "n_hidden = 100\n",
    "losses_train = []\n",
    "losses_dev = []\n",
    "g = torch.Generator(device=device).manual_seed(99)\n",
    "C = torch.randn((27, n_emb), generator=g, device=device)\n",
    "W1 = torch.randn((n_emb*3, n_hidden), generator=g, device=device)\n",
    "b1 = torch.randn(n_hidden, generator=g, device=device)\n",
    "W2 = torch.randn((n_hidden,27), generator=g, device=device)\n",
    "b2 = torch.randn(27, generator=g, device=device)\n",
    "parameters = [C, W1,W2,b1,b2]\n",
    "for p in parameters:\n",
    "    p.requires_grad = True\n",
    "print(f\"Total parameters : {sum(p.nelement() for p in parameters)}\")\n",
    "for steps in range(200000):\n",
    "    minibatch = torch.randint(0,Xtr.shape[0],(32,))\n",
    "    emb = C[Xtr[minibatch]].view(-1, n_emb*3)\n",
    "    l1 = torch.tanh(emb @ W1 + b1)\n",
    "    logits = l1 @ W2 + b2\n",
    "    loss_train = F.cross_entropy(logits, Ytr[minibatch])\n",
    "    for p in parameters:\n",
    "        p.grad = None\n",
    "    loss_train.backward()\n",
    "    lr = 0.1 if steps < 100000 else 0.01\n",
    "    for p in parameters:\n",
    "        p.data += -lr*p.grad\n",
    "\n",
    "    losses_train.append(loss_train.log10().item())\n",
    "    with torch.no_grad():\n",
    "        emb = C[Xdev].view(-1, n_emb*3)\n",
    "        l1 = torch.tanh(emb @ W1 + b1)\n",
    "        logits = l1 @ W2 + b2\n",
    "        loss_dev = F.cross_entropy(logits, Ydev)\n",
    "        losses_dev.append(loss_dev.log10().item())\n",
    "        \n",
    "print(f\"loss_train | loss_dev : {round(loss_train.item(),3)} | {round(loss_dev.item(),3)}\")\n"
   ]
  },
  {
   "cell_type": "code",
   "execution_count": 31,
   "id": "3163377f-5f44-41af-985e-2a1f4a98e5c8",
   "metadata": {},
   "outputs": [
    {
     "data": {
      "text/plain": [
       "<matplotlib.legend.Legend at 0x321e97b60>"
      ]
     },
     "execution_count": 31,
     "metadata": {},
     "output_type": "execute_result"
    },
    {
     "data": {
      "image/png": "[encoded data removed]",
      "text/plain": [
       "<Figure size 640x480 with 1 Axes>"
      ]
     },
     "metadata": {},
     "output_type": "display_data"
    }
   ],
   "source": [
    "plt.plot(list(range(len(losses_train))), losses_train, label='loss_train')\n",
    "plt.plot(list(range(len(losses_dev))), losses_dev, label='loss_dev')\n",
    "plt.legend()"
   ]
  },
  {
   "cell_type": "code",
   "execution_count": 38,
   "id": "611e93af-10f4-4bf1-9d8b-ba5343ff02ed",
   "metadata": {},
   "outputs": [
    {
     "name": "stdout",
     "output_type": "stream",
     "text": [
      "Loss test : 2.158\n"
     ]
    }
   ],
   "source": [
    "emb = C[Xte].view(-1, n_emb*3)\n",
    "l1 = torch.tanh(emb @ W1 + b1)\n",
    "logits = l1 @ W2 + b2\n",
    "loss_te = F.cross_entropy(logits, Yte)\n",
    "print(f\"Loss test : {round(loss_te.item(),3)}\")"
   ]
  },
  {
   "cell_type": "markdown",
   "id": "0f9f260f-adde-4ef4-8874-c9ea91d8b04b",
   "metadata": {},
   "source": [
    "### Visualize dimensions"
   ]
  },
  {
   "cell_type": "code",
   "execution_count": 45,
   "id": "21d7e551-34cd-475e-ad00-c803ec0cda83",
   "metadata": {},
   "outputs": [],
   "source": [
    "from sklearn.decomposition import PCA"
   ]
  },
  {
   "cell_type": "code",
   "execution_count": 47,
   "id": "0dc50d45-1d0e-482f-b829-0ec24940f5b7",
   "metadata": {},
   "outputs": [],
   "source": [
    "pca = PCA(n_components=2, random_state=42)"
   ]
  },
  {
   "cell_type": "code",
   "execution_count": 63,
   "id": "f80d6eac-81d0-413d-b6a5-21e218c57dd3",
   "metadata": {},
   "outputs": [],
   "source": [
    "C_2d = pca.fit_transform(C.to(torch.device('cpu')).detach().numpy())"
   ]
  },
  {
   "cell_type": "code",
   "execution_count": 65,
   "id": "79eefe7a-434c-4758-9d4f-bb4db83bab69",
   "metadata": {},
   "outputs": [
    {
     "data": {
      "text/plain": [
       "(27, 2)"
      ]
     },
     "execution_count": 65,
     "metadata": {},
     "output_type": "execute_result"
    }
   ],
   "source": [
    "C_2d.shape"
   ]
  },
  {
   "cell_type": "code",
   "execution_count": 87,
   "id": "5f7e5df2-ad3b-4800-80f5-fb83ad880a7d",
   "metadata": {},
   "outputs": [
    {
     "data": {
      "image/png": "[encoded data removed]",
      "text/plain": [
       "<Figure size 800x800 with 1 Axes>"
      ]
     },
     "metadata": {},
     "output_type": "display_data"
    }
   ],
   "source": [
    "plt.figure(figsize=(8,8))\n",
    "plt.scatter(C_2d[:,0], C_2d[:,1], s=200)\n",
    "for i in range(C_2d.shape[0]):\n",
    "    plt.text(C_2d[i,0],C_2d[i,1], itos[i], ha='center',va='center',color='white')\n",
    "plt.grid()"
   ]
  },
  {
   "cell_type": "markdown",
   "id": "d90c8fd4-d61d-4e72-a3ae-bb2ba5563f28",
   "metadata": {},
   "source": [
    "### Sample genereated from model  "
   ]
  },
  {
   "cell_type": "code",
   "execution_count": 94,
   "id": "ae442e69-dfb3-464c-8287-a5441ac4ee0d",
   "metadata": {},
   "outputs": [
    {
     "data": {
      "text/plain": [
       "torch.Size([1, 3])"
      ]
     },
     "execution_count": 94,
     "metadata": {},
     "output_type": "execute_result"
    }
   ],
   "source": [
    "torch.tensor([[0,1,2]]).shape"
   ]
  },
  {
   "cell_type": "code",
   "execution_count": null,
   "id": "0e828427-2042-445b-a44c-e7440c0914d5",
   "metadata": {},
   "outputs": [],
   "source": []
  },
  {
   "cell_type": "code",
   "execution_count": 98,
   "id": "6bdb5a31-ccc2-4223-8e6f-6d3f6e891b83",
   "metadata": {},
   "outputs": [
    {
     "name": "stdout",
     "output_type": "stream",
     "text": [
      "alha.\n",
      "clinson.\n",
      "maine.\n",
      "amuquantennandijah.\n",
      "caterrah.\n",
      "bra.\n",
      "olinesstefulberti.\n",
      "jahdenja.\n",
      "colena.\n",
      "mijahyanna.\n",
      "jah.\n",
      "kyanne.\n",
      "shel.\n",
      "shyan.\n",
      "jasiah.\n",
      "afvonney.\n",
      "kawshan.\n",
      "ren.\n",
      "jelenan.\n",
      "mariah.\n"
     ]
    }
   ],
   "source": [
    "g = torch.Generator(device=torch.device('mps')).manual_seed(23123)\n",
    "for _ in range(20):\n",
    "    out = []\n",
    "    context = [0] * block_size\n",
    "    while True:\n",
    "        emb = C[torch.tensor([context])]\n",
    "        h = torch.tanh(emb.view(1, -1) @ W1 + b1)\n",
    "        logits = h @ W2 + b2\n",
    "        probs = F.softmax(logits, dim=1)\n",
    "        ix = torch.multinomial(probs, num_samples=1, generator=g).item()\n",
    "        context = context[1:] + [ix]\n",
    "        out.append(ix)\n",
    "        if ix == 0:\n",
    "            break\n",
    "    print(''.join([itos[i] for i in out]))"
   ]
  },
  {
   "cell_type": "code",
   "execution_count": null,
   "id": "792df748-cc73-4573-94e3-f166474dbe0e",
   "metadata": {},
   "outputs": [],
   "source": []
  },
  {
   "cell_type": "code",
   "execution_count": null,
   "id": "345d6df3-5e89-485a-9c77-6a8615bda9c2",
   "metadata": {},
   "outputs": [],
   "source": []
  },
  {
   "cell_type": "code",
   "execution_count": null,
   "id": "0b568a51-d71d-47c7-bf9e-87e7173f99c7",
   "metadata": {},
   "outputs": [],
   "source": []
  },
  {
   "cell_type": "code",
   "execution_count": null,
   "id": "c39f8e39-44e9-42b5-a680-661e53891fdd",
   "metadata": {},
   "outputs": [],
   "source": []
  },
  {
   "cell_type": "code",
   "execution_count": null,
   "id": "e736a0b1-6c7a-47be-920a-10c2bd2db519",
   "metadata": {},
   "outputs": [],
   "source": []
  }
 ],
 "metadata": {
  "kernelspec": {
   "display_name": "Python 3 (ipykernel)",
   "language": "python",
   "name": "python3"
  },
  "language_info": {
   "codemirror_mode": {
    "name": "ipython",
    "version": 3
   },
   "file_extension": ".py",
   "mimetype": "text/x-python",
   "name": "python",
   "nbconvert_exporter": "python",
   "pygments_lexer": "ipython3",
   "version": "3.12.2"
  }
 },
 "nbformat": 4,
 "nbformat_minor": 5
}
