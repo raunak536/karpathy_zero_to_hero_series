{
 "cells": [
  {
   "cell_type": "code",
   "execution_count": 1,
   "id": "7ed64aeb-ff62-4176-99f2-c90edc684ac8",
   "metadata": {},
   "outputs": [],
   "source": [
    "import torch\n",
    "import torch.nn.functional as F\n",
    "import matplotlib.pyplot as plt\n",
    "%matplotlib inline\n",
    "from time import time"
   ]
  },
  {
   "cell_type": "markdown",
   "id": "a4859b96-8336-47e3-9f8a-81014fe9f448",
   "metadata": {},
   "source": [
    "### Building dataset"
   ]
  },
  {
   "cell_type": "code",
   "execution_count": 3,
   "id": "92d3945f-fba5-4a07-b924-201aceb0d6b5",
   "metadata": {},
   "outputs": [],
   "source": [
    "words = open('../2_makemore_bigrams/names.txt','r').read().splitlines()"
   ]
  },
  {
   "cell_type": "code",
   "execution_count": 4,
   "id": "e6b1a10a-5144-49d8-94b3-f455a179bc39",
   "metadata": {},
   "outputs": [
    {
     "data": {
      "text/plain": [
       "32033"
      ]
     },
     "execution_count": 4,
     "metadata": {},
     "output_type": "execute_result"
    }
   ],
   "source": [
    "len(words)"
   ]
  },
  {
   "cell_type": "code",
   "execution_count": 5,
   "id": "6307f0a9-81e3-4c4e-b393-94f3fcf261a0",
   "metadata": {},
   "outputs": [
    {
     "data": {
      "text/plain": [
       "['emma', 'olivia', 'ava', 'isabella', 'sophia']"
      ]
     },
     "execution_count": 5,
     "metadata": {},
     "output_type": "execute_result"
    }
   ],
   "source": [
    "words[:5]"
   ]
  },
  {
   "cell_type": "code",
   "execution_count": 7,
   "id": "6d8aa33f-f470-46bb-b5c7-e79e0a815476",
   "metadata": {},
   "outputs": [],
   "source": [
    "chars = sorted(list(set(''.join(words))))\n",
    "stoi = {i:enum+1 for enum, i in enumerate(chars)}\n",
    "stoi['.'] = 0\n",
    "itos = {v:k for k,v in stoi.items()}"
   ]
  },
  {
   "cell_type": "code",
   "execution_count": 12,
   "id": "d932ad5b-bdd8-4719-b379-4765693f3a85",
   "metadata": {},
   "outputs": [],
   "source": [
    "# build the dataset\n",
    "block_size = 3\n",
    "\n",
    "def build_dataset(words):\n",
    "    X=[]\n",
    "    Y=[]\n",
    "    for w in words:\n",
    "        context = [0] * block_size\n",
    "        for ch in w+'.':\n",
    "            ix = stoi[ch]\n",
    "            X.append(context)\n",
    "            Y.append(ix)\n",
    "            context = context[1:] + [ix]\n",
    "    X = torch.tensor(X)\n",
    "    Y = torch.tensor(Y)\n",
    "    print(X.shape, Y.shape)\n",
    "    return X,Y"
   ]
  },
  {
   "cell_type": "code",
   "execution_count": 14,
   "id": "d9aaf9dd-77e1-4da6-9ce2-0e07e66a1d7a",
   "metadata": {},
   "outputs": [],
   "source": [
    "import random\n",
    "random.seed(42)\n",
    "random.shuffle(words)"
   ]
  },
  {
   "cell_type": "code",
   "execution_count": 16,
   "id": "f5467fe5-8a63-4c17-9cf0-483a548f56b5",
   "metadata": {},
   "outputs": [],
   "source": [
    "n1 = int(len(words)*0.8)\n",
    "n2 = int(len(words)*0.9)"
   ]
  },
  {
   "cell_type": "code",
   "execution_count": 18,
   "id": "43fff274-440b-451b-9d4c-ca61b1d310c9",
   "metadata": {},
   "outputs": [
    {
     "name": "stdout",
     "output_type": "stream",
     "text": [
      "torch.Size([182625, 3]) torch.Size([182625])\n",
      "torch.Size([22655, 3]) torch.Size([22655])\n",
      "torch.Size([22866, 3]) torch.Size([22866])\n"
     ]
    }
   ],
   "source": [
    "Xtr,Ytr = build_dataset(words[:n1])\n",
    "Xdev,Ydev = build_dataset(words[n1:n2])\n",
    "Xte,Yte = build_dataset(words[n2:])"
   ]
  },
  {
   "cell_type": "code",
   "execution_count": 20,
   "id": "141671ed-d1de-436d-8ac0-0c20ee708b65",
   "metadata": {},
   "outputs": [],
   "source": [
    "device = torch.device('mps')\n",
    "Xtr = Xtr.to(device)\n",
    "Ytr = Ytr.to(device)\n",
    "Xdev = Xdev.to(device)\n",
    "Ydev = Ydev.to(device)\n",
    "Xte = Xte.to(device)\n",
    "Yte = Yte.to(device)"
   ]
  },
  {
   "cell_type": "code",
   "execution_count": 28,
   "id": "92a5dc09-f209-4b28-a49a-e126a6e4f0e3",
   "metadata": {},
   "outputs": [
    {
     "data": {
      "text/plain": [
       "tensor(1.)"
      ]
     },
     "execution_count": 28,
     "metadata": {},
     "output_type": "execute_result"
    }
   ],
   "source": [
    "torch.tensor(10).log10()"
   ]
  },
  {
   "cell_type": "code",
   "execution_count": 47,
   "id": "36ec5bbf-3c47-42a8-a979-18cc49d91c3b",
   "metadata": {},
   "outputs": [
    {
     "data": {
      "text/plain": [
       "tensor(3.2958)"
      ]
     },
     "execution_count": 47,
     "metadata": {},
     "output_type": "execute_result"
    }
   ],
   "source": [
    "### Loss if all probs are equally likely\n",
    "probs = torch.tensor(1/len(stoi))\n",
    "uniform_loss = -probs.log()\n",
    "uniform_loss"
   ]
  },
  {
   "cell_type": "markdown",
   "id": "e1411585-b73a-468a-b171-e847d97480cb",
   "metadata": {},
   "source": [
    "### Initializin nn so that we get the same loss"
   ]
  },
  {
   "cell_type": "code",
   "execution_count": 60,
   "id": "fe9b2e8f-4f2a-46ba-8716-66682a35432b",
   "metadata": {},
   "outputs": [
    {
     "name": "stdout",
     "output_type": "stream",
     "text": [
      "Total parameters : 35527\n",
      "Loss at first pass : 3.296\n"
     ]
    }
   ],
   "source": [
    "n_emb = 100\n",
    "n_hidden = 100\n",
    "g = torch.Generator(device=device).manual_seed(99)\n",
    "C = torch.ones((27, n_emb), device=device) # ones initialization\n",
    "W1 = torch.ones((n_emb*3, n_hidden), device=device)\n",
    "b1 = torch.ones(n_hidden, device=device)\n",
    "W2 = torch.ones((n_hidden,27),device=device)\n",
    "b2 = torch.ones(27, device=device)\n",
    "parameters = [C, W1,W2,b1,b2]\n",
    "print(f\"Total parameters : {sum(p.nelement() for p in parameters)}\")\n",
    "minibatch = torch.randint(0,Xtr.shape[0],(32,))\n",
    "emb = C[Xtr[minibatch]].view(-1, n_emb*3)\n",
    "l1 = torch.tanh(emb @ W1 + b1)\n",
    "logits = l1 @ W2 + b2\n",
    "loss_train = F.cross_entropy(logits, Ytr[minibatch])\n",
    "print(f\"Loss at first pass : {round(loss_train.item(),3)}\")"
   ]
  },
  {
   "cell_type": "code",
   "execution_count": null,
   "id": "c39f8e39-44e9-42b5-a680-661e53891fdd",
   "metadata": {},
   "outputs": [],
   "source": []
  },
  {
   "cell_type": "code",
   "execution_count": null,
   "id": "e736a0b1-6c7a-47be-920a-10c2bd2db519",
   "metadata": {},
   "outputs": [],
   "source": []
  }
 ],
 "metadata": {
  "kernelspec": {
   "display_name": "Python 3 (ipykernel)",
   "language": "python",
   "name": "python3"
  },
  "language_info": {
   "codemirror_mode": {
    "name": "ipython",
    "version": 3
   },
   "file_extension": ".py",
   "mimetype": "text/x-python",
   "name": "python",
   "nbconvert_exporter": "python",
   "pygments_lexer": "ipython3",
   "version": "3.12.2"
  }
 },
 "nbformat": 4,
 "nbformat_minor": 5
}
